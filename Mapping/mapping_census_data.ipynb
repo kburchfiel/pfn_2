{
 "cells": [
  {
   "cell_type": "markdown",
   "id": "0038c5db-ac23-4e93-8633-16c908cd9122",
   "metadata": {
    "execution": {
     "iopub.execute_input": "2024-06-22T14:16:31.504927Z",
     "iopub.status.busy": "2024-06-22T14:16:31.503927Z",
     "iopub.status.idle": "2024-06-22T14:16:31.507400Z",
     "shell.execute_reply": "2024-06-22T14:16:31.507400Z",
     "shell.execute_reply.started": "2024-06-22T14:16:31.504927Z"
    }
   },
   "source": [
    "# Mapping Census Data (Work in Progress)\n",
    "\n",
    "By Kenneth Burchfiel\n",
    "\n",
    "Released under the MIT License\n",
    "\n",
    "This notebook will demonstrate how to create choropleth maps of data retrieved via this project's [Census Data Imports script](https://github.com/kburchfiel/pfn_2/blob/main/Census_Data_Imports/census_data_imports.ipynb). As a reminder, we retrieved Census data within that script in order to answer two separate questions:\n",
    "\n",
    "1. Which counties would be the best destinations for NVCU grads who are looking to settle down and raise a family? *[This section of the Census Data Imports script hasn't yet been started, but I plan to begin working on it soon.]*\n",
    "\n",
    "2. What correlation, if any, exists between marital status and poverty?\n",
    "\n",
    "Although we performed some basic data analyses within the Census Data Imports script to answer those questions, the choropleth maps we'll create here will also serve as a useful tool.\n",
    "\n",
    "**Note: For additional documentation on the code used within this script, consult [choropleth_maps.ipynb](https://github.com/kburchfiel/pfn_2/blob/main/Mapping/choropleth_maps.ipynb).**\n",
    "\n",
    "Interactive copies of the maps created within this code can be viewed via the following links:\n",
    "\n",
    "1. [Married household poverty rates by county](https://sites.google.com/view/pfn2-acs-choropleth-maps/married-couple-household-poverty-rate-source-2022-acs-5-year-estimates)\n",
    "\n",
    "2. [% of Non-Married Households Below Poverty Levels by county](https://sites.google.com/view/pfn2-acs-choropleth-maps/non-married-household-poverty-rates-2022-acs-5-year-estimates)\n",
    "\n",
    "3. [Differences between non-married and married household poverty rates by county](https://sites.google.com/view/pfn2-acs-choropleth-maps/difference-between-married-and-non-married-household-poverty-rates)\n",
    "\n",
    "4. [Non-married/married household poverty rate ratios by county](https://sites.google.com/view/pfn2-acs-choropleth-maps/non-marriedmarried-household-poverty-rate-ratio)\n"
   ]
  },
  {
   "cell_type": "code",
   "execution_count": null,
   "id": "65363f7e-e635-4319-8db4-71ce62bf977d",
   "metadata": {},
   "outputs": [],
   "source": [
    "import time\n",
    "program_start_time = time.time()\n",
    "import pandas as pd\n",
    "pd.set_option('display.max_columns', 1000)\n",
    "import folium\n",
    "import numpy as np\n",
    "import os\n",
    "import geopandas\n",
    "from choropleth_map_functions import cptt, create_map_and_screenshot\n",
    "\n",
    "display_maps = False \n",
    "skipped_render_explanation = \"Skipping map output in order \\\n",
    "to allow this notebook to display on GitHub. Set display_maps to True \\\n",
    "in order to show this and other maps within the notebook.\"\n",
    "\n",
    "latest_acs5_year = 2022"
   ]
  },
  {
   "cell_type": "markdown",
   "id": "352a9cc7-d623-4140-b835-423309c858b0",
   "metadata": {
    "execution": {
     "iopub.execute_input": "2024-06-27T03:35:48.772363Z",
     "iopub.status.busy": "2024-06-27T03:35:48.771363Z",
     "iopub.status.idle": "2024-06-27T03:35:48.774939Z",
     "shell.execute_reply": "2024-06-27T03:35:48.774939Z",
     "shell.execute_reply.started": "2024-06-27T03:35:48.772363Z"
    }
   },
   "source": [
    "# Part 1: Visualizing NVCU Graduates' Ideal Destinations\n",
    "\n",
    "(This section will be completed at a later date.)"
   ]
  },
  {
   "cell_type": "markdown",
   "id": "adffc699-9e2b-4592-bbea-3b5c6344e731",
   "metadata": {},
   "source": [
    "## Importing Shapefiles\n",
    "\n",
    "(For documentation on the following code, see choropleth_maps.ipynb.)"
   ]
  },
  {
   "cell_type": "code",
   "execution_count": null,
   "id": "701c4344-0e89-4ac6-b5dc-7454b4403acf",
   "metadata": {
    "scrolled": true
   },
   "outputs": [],
   "source": [
    "gdf_counties = geopandas.read_file(\n",
    "    'shapefiles/cb_2023_us_county_500k/cb_2023_us_county_500k.shp')\n",
    "gdf_counties['geometry'] = gdf_counties['geometry'].simplify(tolerance = 0.005)\n",
    "# Creating a column that combines county names and long state names:\n",
    "# (This column can then serve as a key for an upcoming merge.)\n",
    "# Note that 'STATE_NAME' is used rather than 'STUSPS' for the state component\n",
    "# of this column in order to match the format used within our demographic\n",
    "# dataset.\n",
    "gdf_counties.insert(\n",
    "    0, 'County/State', \n",
    "    gdf_counties['NAMELSAD'] + ', ' + gdf_counties['STATE_NAME'])\n",
    "gdf_counties.head()"
   ]
  },
  {
   "cell_type": "markdown",
   "id": "3f929058-480c-40ae-8fab-25f117d74492",
   "metadata": {},
   "source": [
    "# Part 2: Visualizing marriage and poverty data"
   ]
  },
  {
   "cell_type": "markdown",
   "id": "6643f519-1b92-4ac1-9825-5181df060264",
   "metadata": {},
   "source": [
    "Reading in our data:"
   ]
  },
  {
   "cell_type": "code",
   "execution_count": null,
   "id": "5d08589e-c0f9-4f75-8b18-a8ef02e241bc",
   "metadata": {},
   "outputs": [],
   "source": [
    "df_mp_census_data = pd.read_csv(\n",
    "    f'../Census_Data_Imports/Datasets/marriage_\\\n",
    "poverty_acs5_data_{latest_acs5_year}.csv')\n",
    "# 'mp' stands for 'marriage and poverty.'\n",
    "# Renaming the NAME column in order to avoid a conflict with our shapefile\n",
    "# dataset's NAME column:\n",
    "df_mp_census_data.rename(\n",
    "    columns = {'NAME':'County/State'},\n",
    "    inplace = True)\n",
    "df_mp_census_data.head()"
   ]
  },
  {
   "cell_type": "markdown",
   "id": "03d00a61-3df2-40d9-adb6-284db597afd9",
   "metadata": {},
   "source": [
    "Merging our Census data into our county shapefiles:\n",
    "\n",
    "(We could also have used state and county codes for this merge; this alternative approach is shown in choropleth_maps.ipnyb.)"
   ]
  },
  {
   "cell_type": "code",
   "execution_count": null,
   "id": "dc2fef91-a3ae-4618-abf9-b42ea713b719",
   "metadata": {},
   "outputs": [],
   "source": [
    "gdf_counties_and_mp_stats = gdf_counties.merge(\n",
    "    df_mp_census_data, on = 'County/State', how = 'inner')\n",
    "gdf_counties_and_mp_stats.query(\"STUSPS != 'PR'\", inplace = True)\n",
    "gdf_counties_and_mp_stats.head()"
   ]
  },
  {
   "cell_type": "markdown",
   "id": "bdb43666-6149-4feb-b161-b33e0c1c97d0",
   "metadata": {},
   "source": [
    "Confirming that, having removed Puerto Rico from the results, we have only 51 unique state codes (representing all 50 states plus DC):"
   ]
  },
  {
   "cell_type": "code",
   "execution_count": null,
   "id": "20f457f9-0086-4ee8-807d-a59157a74c39",
   "metadata": {},
   "outputs": [],
   "source": [
    "len(gdf_counties_and_mp_stats['STUSPS'].unique())"
   ]
  },
  {
   "cell_type": "markdown",
   "id": "3e3d96b8-4997-4d74-af0c-2b427a60a07b",
   "metadata": {},
   "source": [
    "# Comparing married- and % of Non-Married Households Below Poverty Levels:"
   ]
  },
  {
   "cell_type": "markdown",
   "id": "144a01d8-bc96-4717-9cc5-0b3d3f01e058",
   "metadata": {},
   "source": [
    "We'll now create county-level choropleth maps of poverty rates for (1) married-couple households and (2) non-married households. In order to make these two maps easier to compare, we'll use the same set of bins for both. We can accomplish this by defining the bin thresholds outside of the mapping function calls, then passing them to our function as a custom bin list.\n",
    "\n",
    "The following code creates these thresholds by adding both sets of poverty rates together, then using Pandas' quantile() function to calculate a set of percentile-based thresholds."
   ]
  },
  {
   "cell_type": "code",
   "execution_count": null,
   "id": "70b3a268-6f4d-4976-adcd-5202c95459bb",
   "metadata": {
    "scrolled": true
   },
   "outputs": [],
   "source": [
    "custom_mp_percentile_threshold_list = pd.concat(\n",
    "    [gdf_counties_and_mp_stats[\n",
    "     '% of Married Households Below Poverty Level'],\n",
    "    gdf_counties_and_mp_stats[\n",
    "     '% of Non-Married Households Below Poverty Level']]\n",
    ").quantile(np.linspace(0, 1, 11)).to_list()\n",
    "custom_mp_percentile_threshold_list"
   ]
  },
  {
   "cell_type": "markdown",
   "id": "3fba450b-2251-497c-9fe5-a0b8a73296c1",
   "metadata": {},
   "source": [
    "We can also create a linear set of thresholds by determining the minimum and maximum poverty rates for both variables, then using np.linspace() to calculate an equally-spaced group of boundaries. I found the percentile-based thresholds to result in a more colorful map, however."
   ]
  },
  {
   "cell_type": "code",
   "execution_count": null,
   "id": "ea4d844a-ced8-404e-a45d-4527761d0b05",
   "metadata": {},
   "outputs": [],
   "source": [
    "custom_mp_bin_min = min([gdf_counties_and_mp_stats['% of Married Households Below Poverty Level'].min(),\n",
    "    gdf_counties_and_mp_stats['% of Non-Married Households Below Poverty Level'].min()])\n",
    "custom_mp_bin_min"
   ]
  },
  {
   "cell_type": "code",
   "execution_count": null,
   "id": "7e5659e5-9b66-4210-833c-787a767f2890",
   "metadata": {},
   "outputs": [],
   "source": [
    "custom_mp_bin_max = max([gdf_counties_and_mp_stats['% of Married Households Below Poverty Level'].max(),\n",
    "    gdf_counties_and_mp_stats['% of Non-Married Households Below Poverty Level'].max()])\n",
    "custom_mp_bin_max"
   ]
  },
  {
   "cell_type": "code",
   "execution_count": null,
   "id": "de7911f7-04f0-440c-840d-d1ccb74d37a8",
   "metadata": {},
   "outputs": [],
   "source": [
    "custom_mp_linear_threshold_list = np.linspace(custom_mp_bin_min, custom_mp_bin_max, 11)\n",
    "custom_mp_linear_threshold_list"
   ]
  },
  {
   "cell_type": "markdown",
   "id": "bded15ef-1890-4c1b-9662-5a6fdd9220c6",
   "metadata": {},
   "source": [
    "### Creating a map of married-couple household poverty rates by county:"
   ]
  },
  {
   "cell_type": "code",
   "execution_count": null,
   "id": "ee2dd14d-a5f6-4fc7-a5f1-6dd35f63e775",
   "metadata": {},
   "outputs": [],
   "source": [
    "map_filename = f'married_couple_household_poverty_rate_acs_{latest_acs5_year}'\n",
    "\n",
    "m = create_map_and_screenshot(\n",
    "    starting_lat = 38, starting_lon = -95, \n",
    "    html_zoom_start = 5,\n",
    "    screenshot_zoom_start = 6,\n",
    "    gdf = gdf_counties_and_mp_stats, \n",
    "    data_col = '% of Married Households Below Poverty Level', \n",
    "    boundary_name_col = 'County/State',\n",
    "    data_col_alias = \"% of Married Households Below Poverty Level\", \n",
    "    boundary_name_alias = 'County:',\n",
    "    tooltip_variable_list = [], \n",
    "         tooltip_alias_list = [],\n",
    "    bin_type = 'custom', \n",
    "    custom_threshold_list = custom_mp_percentile_threshold_list, \n",
    "    # color_scheme = 'RdYlBu_r',\n",
    "    color_scheme = 'YlOrRd',\n",
    "        map_filename = map_filename,\n",
    "        html_map_folder = os.getcwd()+'/maps',\n",
    "        png_map_folder = os.getcwd()+'/map_screenshots')\n",
    "\n",
    "m if display_maps == True else skipped_render_explanation"
   ]
  },
  {
   "cell_type": "markdown",
   "id": "5d58122e-cc55-4fa6-ab03-7bb9fe5622b6",
   "metadata": {},
   "source": [
    "### Creating a map of % of Non-Married Households Below Poverty Levels by county:"
   ]
  },
  {
   "cell_type": "code",
   "execution_count": null,
   "id": "295359db-2ff7-4050-8958-fe69e17d60e7",
   "metadata": {},
   "outputs": [],
   "source": [
    "map_filename = f'non_married_couple_household_poverty_rate_acs_{latest_acs5_year}'\n",
    "\n",
    "m = create_map_and_screenshot(\n",
    "    starting_lat = 38, starting_lon = -95, \n",
    "    html_zoom_start = 5,\n",
    "    screenshot_zoom_start = 6,\n",
    "    gdf = gdf_counties_and_mp_stats, \n",
    "    data_col = \"% of Non-Married Households Below Poverty Level\",\n",
    "    boundary_name_col = 'County/State',\n",
    "    data_col_alias = \"% of Non-Married Households Below Poverty Level\", \n",
    "    boundary_name_alias = 'County:',\n",
    "    tooltip_variable_list = [], \n",
    "         tooltip_alias_list = [],\n",
    "    bin_type = 'custom', \n",
    "    custom_threshold_list = custom_mp_percentile_threshold_list,  \n",
    "    color_scheme = 'YlOrRd',\n",
    "    #color_scheme = 'RdYlBu_r',\n",
    "        map_filename = map_filename,\n",
    "        html_map_folder = os.getcwd()+'/maps',\n",
    "        png_map_folder = os.getcwd()+'/map_screenshots')\n",
    "\n",
    "m if display_maps == True else skipped_render_explanation"
   ]
  },
  {
   "cell_type": "markdown",
   "id": "dd10d790-e639-4eff-ab3b-134e8e819e77",
   "metadata": {},
   "source": [
    "## Mapping the difference between these two poverty rates:"
   ]
  },
  {
   "cell_type": "code",
   "execution_count": null,
   "id": "20e48732-de29-4187-9625-3a0b34cd30e6",
   "metadata": {},
   "outputs": [],
   "source": [
    "map_filename = f'non_married_married_poverty_rate_difference\\\n",
    "_acs_{latest_acs5_year}'\n",
    "\n",
    "m = create_map_and_screenshot(\n",
    "    starting_lat = 38, starting_lon = -95, \n",
    "    html_zoom_start = 5,\n",
    "    screenshot_zoom_start = 6,\n",
    "    gdf = gdf_counties_and_mp_stats, \n",
    "    data_col = 'Non-Married/Married Household Poverty Rate Difference', \n",
    "    boundary_name_col = 'County/State',\n",
    "    data_col_alias = \"Non-Married/Married Household Poverty Rate Difference\", \n",
    "    boundary_name_alias = 'County:',\n",
    "    tooltip_variable_list = [], \n",
    "         tooltip_alias_list = [],\n",
    "    bin_type = 'percentile',  \n",
    "    color_scheme = 'Blues',\n",
    "        map_filename = map_filename,\n",
    "        html_map_folder = os.getcwd()+'/maps',\n",
    "        png_map_folder = os.getcwd()+'/map_screenshots')\n",
    "\n",
    "m if display_maps == True else skipped_render_explanation"
   ]
  },
  {
   "cell_type": "markdown",
   "id": "984756b1-c5ae-4ca0-8909-797ca383c0e8",
   "metadata": {},
   "source": [
    "# Mapping the ratio between these two poverty rates:"
   ]
  },
  {
   "cell_type": "code",
   "execution_count": null,
   "id": "bc26995b-ba1f-43bb-ad05-6fd3e779cfd6",
   "metadata": {},
   "outputs": [],
   "source": [
    "map_filename = f'non_married_married_poverty_rate_ratio_acs_{latest_acs5_year}'\n",
    "\n",
    "m = create_map_and_screenshot(\n",
    "    starting_lat = 38, starting_lon = -95, \n",
    "    html_zoom_start = 5,\n",
    "    screenshot_zoom_start = 6,\n",
    "    gdf = gdf_counties_and_mp_stats, \n",
    "    data_col = 'Non-Married/Married Household Poverty Rate Ratio', \n",
    "    boundary_name_col = 'County/State',\n",
    "    data_col_alias = \"Non-Married/Married Household Poverty Rate Ratio\", \n",
    "    boundary_name_alias = 'County:',\n",
    "    tooltip_variable_list = [], \n",
    "         tooltip_alias_list = [],\n",
    "    bin_type = 'percentile',  \n",
    "    color_scheme = 'Blues',\n",
    "        map_filename = map_filename,\n",
    "        html_map_folder = os.getcwd()+'/maps',\n",
    "        png_map_folder = os.getcwd()+'/map_screenshots')\n",
    "\n",
    "m if display_maps == True else skipped_render_explanation"
   ]
  },
  {
   "cell_type": "code",
   "execution_count": null,
   "id": "8cb67cf1-9ded-46a3-baae-56285db0c034",
   "metadata": {},
   "outputs": [],
   "source": [
    "program_end_time = time.time()\n",
    "run_time = round(program_end_time - program_start_time, 3)\n",
    "print(f\"Finished running script in {run_time} seconds.\")"
   ]
  }
 ],
 "metadata": {
  "kernelspec": {
   "display_name": "Python 3 (ipykernel)",
   "language": "python",
   "name": "python3"
  },
  "language_info": {
   "codemirror_mode": {
    "name": "ipython",
    "version": 3
   },
   "file_extension": ".py",
   "mimetype": "text/x-python",
   "name": "python",
   "nbconvert_exporter": "python",
   "pygments_lexer": "ipython3",
   "version": "3.12.3"
  }
 },
 "nbformat": 4,
 "nbformat_minor": 5
}
