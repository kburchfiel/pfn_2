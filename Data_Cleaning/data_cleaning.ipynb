{
 "cells": [
  {
   "cell_type": "markdown",
   "id": "5d535b3f-3386-484f-a319-7b1d7ee7849f",
   "metadata": {},
   "source": [
    "# Data Cleaning [Work in progress]\n",
    "\n",
    "By Kenneth Burchfiel\n",
    "\n",
    "Released under the MIT License\n",
    "\n",
    "Our survey_results database file already contains results for the fall and the spring. However, let's say that you've been asked to add a set of winter results to this dataset as well, then calculate a weighted average of fall, winter, and spring survey results for each student. \n",
    "\n",
    "If these results were in the same format as the fall and spring ones and had no missing data, this process would be very simple. Unfortunately, that's not the case with the winter results that we'll be processing within this script. These results feature:\n",
    "\n",
    "1. Different column names\n",
    "2. Different value formats\n",
    "3. Missing columns\n",
    "4. Duplicate values\n",
    "5. Missing results for certain students\n",
    "\n",
    "And to make matters even more complex, these winter results are spread out over 16 different files (one for each grade within each college at the university).\n",
    "\n",
    "It would be cumbersome and mind-numbing to modify each of these 16 datasets within Excel, Google Sheets, or a similar program so that they could be combined with our pre-existing fall and spring data. However, the Python code shown below will make this data cleaning process much easier. And once this script is in place, if you happened to get next year's winter results in the same format* as this year's, you'd be able to get them cleaned up in no time.\n",
    "\n",
    "\\*You may find in your work, however, that the results are in yet another format the following year, followed by a different format the year after that. Data-related tasks are always made easier when inputs stay the same, but in the real world, you'll often need to rework datasets in order to make them compatible with pre-existing processes. "
   ]
  },
  {
   "cell_type": "code",
   "execution_count": null,
   "id": "11cba2fa-e737-46cc-80d3-db0d46d54e05",
   "metadata": {},
   "outputs": [],
   "source": []
  }
 ],
 "metadata": {
  "kernelspec": {
   "display_name": "Python 3 (ipykernel)",
   "language": "python",
   "name": "python3"
  },
  "language_info": {
   "codemirror_mode": {
    "name": "ipython",
    "version": 3
   },
   "file_extension": ".py",
   "mimetype": "text/x-python",
   "name": "python",
   "nbconvert_exporter": "python",
   "pygments_lexer": "ipython3",
   "version": "3.12.3"
  }
 },
 "nbformat": 4,
 "nbformat_minor": 5
}
