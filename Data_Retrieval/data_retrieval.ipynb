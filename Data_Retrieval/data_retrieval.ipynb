{
 "cells": [
  {
   "cell_type": "markdown",
   "id": "c11375b6-a71d-463b-8231-4bcb9cf26cc2",
   "metadata": {
    "execution": {
     "iopub.execute_input": "2024-07-06T01:54:30.992279Z",
     "iopub.status.busy": "2024-07-06T01:54:30.991278Z",
     "iopub.status.idle": "2024-07-06T01:54:30.994879Z",
     "shell.execute_reply": "2024-07-06T01:54:30.994879Z",
     "shell.execute_reply.started": "2024-07-06T01:54:30.992279Z"
    }
   },
   "source": [
    "# Data Retrieval\n",
    "\n",
    "By Kenneth Burchfiel\n",
    "\n",
    "Released under the MIT License\n",
    "\n",
    "One of Python's key strengths is that it can work with a wide variety of data. This script will demonstrate how to use Python's Pandas library to import data from .csv files, .xlsx files, SQL tables, and HTML pages; however, *many* other data types are supported, either by Python itself or via additional libraries. Later sections of Python for Nonprofits will introduce additional data sources."
   ]
  },
  {
   "cell_type": "code",
   "execution_count": 1,
   "id": "29a9166a-af36-48bb-b698-7dd69955fdb5",
   "metadata": {
    "execution": {
     "iopub.execute_input": "2024-07-06T03:43:59.570145Z",
     "iopub.status.busy": "2024-07-06T03:43:59.570145Z",
     "iopub.status.idle": "2024-07-06T03:44:00.209816Z",
     "shell.execute_reply": "2024-07-06T03:44:00.209816Z",
     "shell.execute_reply.started": "2024-07-06T03:43:59.570145Z"
    }
   },
   "outputs": [],
   "source": [
    "import pandas as pd\n",
    "from sqlalchemy import create_engine\n",
    "# The above code can be found at\n",
    "# https://docs.sqlalchemy.org/en/20/core/engines.html ."
   ]
  },
  {
   "cell_type": "markdown",
   "id": "26e6051e-2695-49f1-8bf1-024e4acad785",
   "metadata": {},
   "source": [
    "# Importing .csv data\n",
    "\n",
    "Pandas' [read_csv()](https://pandas.pydata.org/pandas-docs/stable/reference/api/pandas.read_csv.html) function simplifies the process of reading .csv data into your Python script. Here's a simple example:"
   ]
  },
  {
   "cell_type": "code",
   "execution_count": 2,
   "id": "eebe50e2-8f90-4921-96e4-9664080837f7",
   "metadata": {
    "execution": {
     "iopub.execute_input": "2024-07-06T03:44:00.210833Z",
     "iopub.status.busy": "2024-07-06T03:44:00.210833Z",
     "iopub.status.idle": "2024-07-06T03:44:00.247722Z",
     "shell.execute_reply": "2024-07-06T03:44:00.247722Z",
     "shell.execute_reply.started": "2024-07-06T03:44:00.210833Z"
    }
   },
   "outputs": [
    {
     "data": {
      "text/html": [
       "<div>\n",
       "<style scoped>\n",
       "    .dataframe tbody tr th:only-of-type {\n",
       "        vertical-align: middle;\n",
       "    }\n",
       "\n",
       "    .dataframe tbody tr th {\n",
       "        vertical-align: top;\n",
       "    }\n",
       "\n",
       "    .dataframe thead th {\n",
       "        text-align: right;\n",
       "    }\n",
       "</style>\n",
       "<table border=\"1\" class=\"dataframe\">\n",
       "  <thead>\n",
       "    <tr style=\"text-align: right;\">\n",
       "      <th></th>\n",
       "      <th>first_name</th>\n",
       "      <th>last_name</th>\n",
       "      <th>gender</th>\n",
       "      <th>matriculation_year</th>\n",
       "      <th>matriculation_number</th>\n",
       "      <th>student_id</th>\n",
       "      <th>date_of_birth</th>\n",
       "      <th>college</th>\n",
       "      <th>class_of</th>\n",
       "      <th>level</th>\n",
       "      <th>level_for_sorting</th>\n",
       "    </tr>\n",
       "  </thead>\n",
       "  <tbody>\n",
       "    <tr>\n",
       "      <th>0</th>\n",
       "      <td>Rachel</td>\n",
       "      <td>Silva</td>\n",
       "      <td>F</td>\n",
       "      <td>2020</td>\n",
       "      <td>1</td>\n",
       "      <td>2020-1</td>\n",
       "      <td>2002-12-16</td>\n",
       "      <td>STC</td>\n",
       "      <td>2024</td>\n",
       "      <td>Fr</td>\n",
       "      <td>0</td>\n",
       "    </tr>\n",
       "    <tr>\n",
       "      <th>1</th>\n",
       "      <td>Brooke</td>\n",
       "      <td>Bradford</td>\n",
       "      <td>F</td>\n",
       "      <td>2020</td>\n",
       "      <td>2</td>\n",
       "      <td>2020-2</td>\n",
       "      <td>2002-09-26</td>\n",
       "      <td>STM</td>\n",
       "      <td>2024</td>\n",
       "      <td>Fr</td>\n",
       "      <td>0</td>\n",
       "    </tr>\n",
       "    <tr>\n",
       "      <th>2</th>\n",
       "      <td>Angela</td>\n",
       "      <td>Cameron</td>\n",
       "      <td>F</td>\n",
       "      <td>2020</td>\n",
       "      <td>3</td>\n",
       "      <td>2020-3</td>\n",
       "      <td>2002-05-18</td>\n",
       "      <td>STC</td>\n",
       "      <td>2024</td>\n",
       "      <td>Fr</td>\n",
       "      <td>0</td>\n",
       "    </tr>\n",
       "    <tr>\n",
       "      <th>3</th>\n",
       "      <td>Tonya</td>\n",
       "      <td>Hampton</td>\n",
       "      <td>F</td>\n",
       "      <td>2020</td>\n",
       "      <td>4</td>\n",
       "      <td>2020-4</td>\n",
       "      <td>2002-11-15</td>\n",
       "      <td>STC</td>\n",
       "      <td>2024</td>\n",
       "      <td>Fr</td>\n",
       "      <td>0</td>\n",
       "    </tr>\n",
       "    <tr>\n",
       "      <th>4</th>\n",
       "      <td>Tammy</td>\n",
       "      <td>Gardner</td>\n",
       "      <td>F</td>\n",
       "      <td>2020</td>\n",
       "      <td>5</td>\n",
       "      <td>2020-5</td>\n",
       "      <td>2002-06-21</td>\n",
       "      <td>STM</td>\n",
       "      <td>2024</td>\n",
       "      <td>Fr</td>\n",
       "      <td>0</td>\n",
       "    </tr>\n",
       "  </tbody>\n",
       "</table>\n",
       "</div>"
      ],
      "text/plain": [
       "  first_name last_name gender  matriculation_year  matriculation_number  \\\n",
       "0     Rachel     Silva      F                2020                     1   \n",
       "1     Brooke  Bradford      F                2020                     2   \n",
       "2     Angela   Cameron      F                2020                     3   \n",
       "3      Tonya   Hampton      F                2020                     4   \n",
       "4      Tammy   Gardner      F                2020                     5   \n",
       "\n",
       "  student_id date_of_birth college  class_of level  level_for_sorting  \n",
       "0     2020-1    2002-12-16     STC      2024    Fr                  0  \n",
       "1     2020-2    2002-09-26     STM      2024    Fr                  0  \n",
       "2     2020-3    2002-05-18     STC      2024    Fr                  0  \n",
       "3     2020-4    2002-11-15     STC      2024    Fr                  0  \n",
       "4     2020-5    2002-06-21     STM      2024    Fr                  0  "
      ]
     },
     "execution_count": 2,
     "metadata": {},
     "output_type": "execute_result"
    }
   ],
   "source": [
    "df_curr_enrollment_csv = pd.read_csv(\n",
    "    '../Appendix/curr_enrollment.csv')\n",
    "df_curr_enrollment_csv.head()"
   ]
  },
  {
   "cell_type": "markdown",
   "id": "f67286f1-d10d-4598-b91f-1c62bb285d65",
   "metadata": {},
   "source": [
    "However, you'll sometimes need to add additional arguments to read_csv() in order to correctly import your data. For example, if a separator other than a comma was used, you'll want to specify that separator via the 'sep' argument.\n",
    "\n",
    "The following example shows what you'll see if you try to use read_csv to import *tab*-separated .csv data:"
   ]
  },
  {
   "cell_type": "code",
   "execution_count": 3,
   "id": "0aa0c380-c933-4e63-ac42-10010e3e5790",
   "metadata": {
    "execution": {
     "iopub.execute_input": "2024-07-06T03:44:00.249726Z",
     "iopub.status.busy": "2024-07-06T03:44:00.249726Z",
     "iopub.status.idle": "2024-07-06T03:44:00.275236Z",
     "shell.execute_reply": "2024-07-06T03:44:00.275236Z",
     "shell.execute_reply.started": "2024-07-06T03:44:00.249726Z"
    }
   },
   "outputs": [
    {
     "data": {
      "text/html": [
       "<div>\n",
       "<style scoped>\n",
       "    .dataframe tbody tr th:only-of-type {\n",
       "        vertical-align: middle;\n",
       "    }\n",
       "\n",
       "    .dataframe tbody tr th {\n",
       "        vertical-align: top;\n",
       "    }\n",
       "\n",
       "    .dataframe thead th {\n",
       "        text-align: right;\n",
       "    }\n",
       "</style>\n",
       "<table border=\"1\" class=\"dataframe\">\n",
       "  <thead>\n",
       "    <tr style=\"text-align: right;\">\n",
       "      <th></th>\n",
       "      <th>first_name\\tlast_name\\tgender\\tmatriculation_year\\tmatriculation_number\\tstudent_id\\tdate_of_birth\\tcollege\\tclass_of\\tlevel\\tlevel_for_sorting</th>\n",
       "    </tr>\n",
       "  </thead>\n",
       "  <tbody>\n",
       "    <tr>\n",
       "      <th>0</th>\n",
       "      <td>Rachel\\tSilva\\tF\\t2020\\t1\\t2020-1\\t2002-12-16\\...</td>\n",
       "    </tr>\n",
       "    <tr>\n",
       "      <th>1</th>\n",
       "      <td>Brooke\\tBradford\\tF\\t2020\\t2\\t2020-2\\t2002-09-...</td>\n",
       "    </tr>\n",
       "    <tr>\n",
       "      <th>2</th>\n",
       "      <td>Angela\\tCameron\\tF\\t2020\\t3\\t2020-3\\t2002-05-1...</td>\n",
       "    </tr>\n",
       "    <tr>\n",
       "      <th>3</th>\n",
       "      <td>Tonya\\tHampton\\tF\\t2020\\t4\\t2020-4\\t2002-11-15...</td>\n",
       "    </tr>\n",
       "    <tr>\n",
       "      <th>4</th>\n",
       "      <td>Tammy\\tGardner\\tF\\t2020\\t5\\t2020-5\\t2002-06-21...</td>\n",
       "    </tr>\n",
       "  </tbody>\n",
       "</table>\n",
       "</div>"
      ],
      "text/plain": [
       "  first_name\\tlast_name\\tgender\\tmatriculation_year\\tmatriculation_number\\tstudent_id\\tdate_of_birth\\tcollege\\tclass_of\\tlevel\\tlevel_for_sorting\n",
       "0  Rachel\\tSilva\\tF\\t2020\\t1\\t2020-1\\t2002-12-16\\...                                                                                             \n",
       "1  Brooke\\tBradford\\tF\\t2020\\t2\\t2020-2\\t2002-09-...                                                                                             \n",
       "2  Angela\\tCameron\\tF\\t2020\\t3\\t2020-3\\t2002-05-1...                                                                                             \n",
       "3  Tonya\\tHampton\\tF\\t2020\\t4\\t2020-4\\t2002-11-15...                                                                                             \n",
       "4  Tammy\\tGardner\\tF\\t2020\\t5\\t2020-5\\t2002-06-21...                                                                                             "
      ]
     },
     "execution_count": 3,
     "metadata": {},
     "output_type": "execute_result"
    }
   ],
   "source": [
    "df_curr_enrollment_tab_csv = pd.read_csv(\n",
    "    'curr_enrollment_tab_separated.csv')\n",
    "df_curr_enrollment_tab_csv.head()"
   ]
  },
  {
   "cell_type": "markdown",
   "id": "a096e854-d4b3-440a-80de-7afda8a9f9f8",
   "metadata": {
    "execution": {
     "iopub.execute_input": "2024-07-06T02:33:21.544324Z",
     "iopub.status.busy": "2024-07-06T02:33:21.544324Z",
     "iopub.status.idle": "2024-07-06T02:33:21.547790Z",
     "shell.execute_reply": "2024-07-06T02:33:21.547790Z",
     "shell.execute_reply.started": "2024-07-06T02:33:21.544324Z"
    }
   },
   "source": [
    "The '\\t' strings within the column and field values *and* the lack of column separators are dead giveaways that this file was tab separated. To correctly import this information, you'll need to add `sep = '\\t'` within your read_csv() call, as shown below. (`'\\t'` represents tabs, just as `'\\n'` represents newlines.)"
   ]
  },
  {
   "cell_type": "code",
   "execution_count": 4,
   "id": "9478615c-de98-4294-b2dd-4b67787b664e",
   "metadata": {
    "execution": {
     "iopub.execute_input": "2024-07-06T03:44:00.276240Z",
     "iopub.status.busy": "2024-07-06T03:44:00.276240Z",
     "iopub.status.idle": "2024-07-06T03:44:00.301600Z",
     "shell.execute_reply": "2024-07-06T03:44:00.301600Z",
     "shell.execute_reply.started": "2024-07-06T03:44:00.276240Z"
    }
   },
   "outputs": [
    {
     "data": {
      "text/html": [
       "<div>\n",
       "<style scoped>\n",
       "    .dataframe tbody tr th:only-of-type {\n",
       "        vertical-align: middle;\n",
       "    }\n",
       "\n",
       "    .dataframe tbody tr th {\n",
       "        vertical-align: top;\n",
       "    }\n",
       "\n",
       "    .dataframe thead th {\n",
       "        text-align: right;\n",
       "    }\n",
       "</style>\n",
       "<table border=\"1\" class=\"dataframe\">\n",
       "  <thead>\n",
       "    <tr style=\"text-align: right;\">\n",
       "      <th></th>\n",
       "      <th>first_name</th>\n",
       "      <th>last_name</th>\n",
       "      <th>gender</th>\n",
       "      <th>matriculation_year</th>\n",
       "      <th>matriculation_number</th>\n",
       "      <th>student_id</th>\n",
       "      <th>date_of_birth</th>\n",
       "      <th>college</th>\n",
       "      <th>class_of</th>\n",
       "      <th>level</th>\n",
       "      <th>level_for_sorting</th>\n",
       "    </tr>\n",
       "  </thead>\n",
       "  <tbody>\n",
       "    <tr>\n",
       "      <th>0</th>\n",
       "      <td>Rachel</td>\n",
       "      <td>Silva</td>\n",
       "      <td>F</td>\n",
       "      <td>2020</td>\n",
       "      <td>1</td>\n",
       "      <td>2020-1</td>\n",
       "      <td>2002-12-16</td>\n",
       "      <td>STC</td>\n",
       "      <td>2024</td>\n",
       "      <td>Fr</td>\n",
       "      <td>0</td>\n",
       "    </tr>\n",
       "    <tr>\n",
       "      <th>1</th>\n",
       "      <td>Brooke</td>\n",
       "      <td>Bradford</td>\n",
       "      <td>F</td>\n",
       "      <td>2020</td>\n",
       "      <td>2</td>\n",
       "      <td>2020-2</td>\n",
       "      <td>2002-09-26</td>\n",
       "      <td>STM</td>\n",
       "      <td>2024</td>\n",
       "      <td>Fr</td>\n",
       "      <td>0</td>\n",
       "    </tr>\n",
       "    <tr>\n",
       "      <th>2</th>\n",
       "      <td>Angela</td>\n",
       "      <td>Cameron</td>\n",
       "      <td>F</td>\n",
       "      <td>2020</td>\n",
       "      <td>3</td>\n",
       "      <td>2020-3</td>\n",
       "      <td>2002-05-18</td>\n",
       "      <td>STC</td>\n",
       "      <td>2024</td>\n",
       "      <td>Fr</td>\n",
       "      <td>0</td>\n",
       "    </tr>\n",
       "    <tr>\n",
       "      <th>3</th>\n",
       "      <td>Tonya</td>\n",
       "      <td>Hampton</td>\n",
       "      <td>F</td>\n",
       "      <td>2020</td>\n",
       "      <td>4</td>\n",
       "      <td>2020-4</td>\n",
       "      <td>2002-11-15</td>\n",
       "      <td>STC</td>\n",
       "      <td>2024</td>\n",
       "      <td>Fr</td>\n",
       "      <td>0</td>\n",
       "    </tr>\n",
       "    <tr>\n",
       "      <th>4</th>\n",
       "      <td>Tammy</td>\n",
       "      <td>Gardner</td>\n",
       "      <td>F</td>\n",
       "      <td>2020</td>\n",
       "      <td>5</td>\n",
       "      <td>2020-5</td>\n",
       "      <td>2002-06-21</td>\n",
       "      <td>STM</td>\n",
       "      <td>2024</td>\n",
       "      <td>Fr</td>\n",
       "      <td>0</td>\n",
       "    </tr>\n",
       "  </tbody>\n",
       "</table>\n",
       "</div>"
      ],
      "text/plain": [
       "  first_name last_name gender  matriculation_year  matriculation_number  \\\n",
       "0     Rachel     Silva      F                2020                     1   \n",
       "1     Brooke  Bradford      F                2020                     2   \n",
       "2     Angela   Cameron      F                2020                     3   \n",
       "3      Tonya   Hampton      F                2020                     4   \n",
       "4      Tammy   Gardner      F                2020                     5   \n",
       "\n",
       "  student_id date_of_birth college  class_of level  level_for_sorting  \n",
       "0     2020-1    2002-12-16     STC      2024    Fr                  0  \n",
       "1     2020-2    2002-09-26     STM      2024    Fr                  0  \n",
       "2     2020-3    2002-05-18     STC      2024    Fr                  0  \n",
       "3     2020-4    2002-11-15     STC      2024    Fr                  0  \n",
       "4     2020-5    2002-06-21     STM      2024    Fr                  0  "
      ]
     },
     "execution_count": 4,
     "metadata": {},
     "output_type": "execute_result"
    }
   ],
   "source": [
    "df_curr_enrollment_tab_csv = pd.read_csv(\n",
    "    'curr_enrollment_tab_separated.csv', sep = '\\t')\n",
    "df_curr_enrollment_tab_csv.head()"
   ]
  },
  {
   "cell_type": "markdown",
   "id": "5d21bc84-4349-4020-b32c-bd2782f30f7c",
   "metadata": {},
   "source": [
    "In addition, if your .csv file uses an encoding other than UTF-8 (the default), you may need to specify an [alternative codec](https://docs.python.org/3/library/codecs.html#standard-encodings) using the 'encoding' argument. "
   ]
  },
  {
   "cell_type": "markdown",
   "id": "1a5dc20d-5a56-493f-8edb-e6807266825f",
   "metadata": {},
   "source": [
    "# Importing .xlsx data\n",
    "\n",
    "Importing .xlsx files is also easy to do within Python, although I've found that this process can take longer to execute than does importing .csv files.\n",
    "\n",
    "The following code imports an .xlsx version of the same current enrollment dataset that we read above. You may need to install the openpyxl library in order for it to run on your computer."
   ]
  },
  {
   "cell_type": "code",
   "execution_count": 5,
   "id": "17e32458-6b49-4982-9965-faa5773c098b",
   "metadata": {
    "execution": {
     "iopub.execute_input": "2024-07-06T03:44:00.303606Z",
     "iopub.status.busy": "2024-07-06T03:44:00.302605Z",
     "iopub.status.idle": "2024-07-06T03:44:03.001878Z",
     "shell.execute_reply": "2024-07-06T03:44:03.001878Z",
     "shell.execute_reply.started": "2024-07-06T03:44:00.303606Z"
    }
   },
   "outputs": [
    {
     "data": {
      "text/html": [
       "<div>\n",
       "<style scoped>\n",
       "    .dataframe tbody tr th:only-of-type {\n",
       "        vertical-align: middle;\n",
       "    }\n",
       "\n",
       "    .dataframe tbody tr th {\n",
       "        vertical-align: top;\n",
       "    }\n",
       "\n",
       "    .dataframe thead th {\n",
       "        text-align: right;\n",
       "    }\n",
       "</style>\n",
       "<table border=\"1\" class=\"dataframe\">\n",
       "  <thead>\n",
       "    <tr style=\"text-align: right;\">\n",
       "      <th></th>\n",
       "      <th>first_name</th>\n",
       "      <th>last_name</th>\n",
       "      <th>gender</th>\n",
       "      <th>matriculation_year</th>\n",
       "      <th>matriculation_number</th>\n",
       "      <th>student_id</th>\n",
       "      <th>date_of_birth</th>\n",
       "      <th>college</th>\n",
       "      <th>class_of</th>\n",
       "      <th>level</th>\n",
       "      <th>level_for_sorting</th>\n",
       "    </tr>\n",
       "  </thead>\n",
       "  <tbody>\n",
       "    <tr>\n",
       "      <th>0</th>\n",
       "      <td>Rachel</td>\n",
       "      <td>Silva</td>\n",
       "      <td>F</td>\n",
       "      <td>2020</td>\n",
       "      <td>1</td>\n",
       "      <td>2020-1</td>\n",
       "      <td>2002-12-16</td>\n",
       "      <td>STC</td>\n",
       "      <td>2024</td>\n",
       "      <td>Fr</td>\n",
       "      <td>0</td>\n",
       "    </tr>\n",
       "    <tr>\n",
       "      <th>1</th>\n",
       "      <td>Brooke</td>\n",
       "      <td>Bradford</td>\n",
       "      <td>F</td>\n",
       "      <td>2020</td>\n",
       "      <td>2</td>\n",
       "      <td>2020-2</td>\n",
       "      <td>2002-09-26</td>\n",
       "      <td>STM</td>\n",
       "      <td>2024</td>\n",
       "      <td>Fr</td>\n",
       "      <td>0</td>\n",
       "    </tr>\n",
       "    <tr>\n",
       "      <th>2</th>\n",
       "      <td>Angela</td>\n",
       "      <td>Cameron</td>\n",
       "      <td>F</td>\n",
       "      <td>2020</td>\n",
       "      <td>3</td>\n",
       "      <td>2020-3</td>\n",
       "      <td>2002-05-18</td>\n",
       "      <td>STC</td>\n",
       "      <td>2024</td>\n",
       "      <td>Fr</td>\n",
       "      <td>0</td>\n",
       "    </tr>\n",
       "    <tr>\n",
       "      <th>3</th>\n",
       "      <td>Tonya</td>\n",
       "      <td>Hampton</td>\n",
       "      <td>F</td>\n",
       "      <td>2020</td>\n",
       "      <td>4</td>\n",
       "      <td>2020-4</td>\n",
       "      <td>2002-11-15</td>\n",
       "      <td>STC</td>\n",
       "      <td>2024</td>\n",
       "      <td>Fr</td>\n",
       "      <td>0</td>\n",
       "    </tr>\n",
       "    <tr>\n",
       "      <th>4</th>\n",
       "      <td>Tammy</td>\n",
       "      <td>Gardner</td>\n",
       "      <td>F</td>\n",
       "      <td>2020</td>\n",
       "      <td>5</td>\n",
       "      <td>2020-5</td>\n",
       "      <td>2002-06-21</td>\n",
       "      <td>STM</td>\n",
       "      <td>2024</td>\n",
       "      <td>Fr</td>\n",
       "      <td>0</td>\n",
       "    </tr>\n",
       "  </tbody>\n",
       "</table>\n",
       "</div>"
      ],
      "text/plain": [
       "  first_name last_name gender  matriculation_year  matriculation_number  \\\n",
       "0     Rachel     Silva      F                2020                     1   \n",
       "1     Brooke  Bradford      F                2020                     2   \n",
       "2     Angela   Cameron      F                2020                     3   \n",
       "3      Tonya   Hampton      F                2020                     4   \n",
       "4      Tammy   Gardner      F                2020                     5   \n",
       "\n",
       "  student_id date_of_birth college  class_of level  level_for_sorting  \n",
       "0     2020-1    2002-12-16     STC      2024    Fr                  0  \n",
       "1     2020-2    2002-09-26     STM      2024    Fr                  0  \n",
       "2     2020-3    2002-05-18     STC      2024    Fr                  0  \n",
       "3     2020-4    2002-11-15     STC      2024    Fr                  0  \n",
       "4     2020-5    2002-06-21     STM      2024    Fr                  0  "
      ]
     },
     "execution_count": 5,
     "metadata": {},
     "output_type": "execute_result"
    }
   ],
   "source": [
    "df_curr_enrollment_xlsx = pd.read_excel('curr_enrollment.xlsx')\n",
    "df_curr_enrollment_xlsx.head()"
   ]
  },
  {
   "cell_type": "markdown",
   "id": "29951705-706b-4072-b8cb-119136a85f29",
   "metadata": {
    "execution": {
     "iopub.execute_input": "2024-07-06T02:00:20.440283Z",
     "iopub.status.busy": "2024-07-06T02:00:20.439272Z",
     "iopub.status.idle": "2024-07-06T02:00:20.442725Z",
     "shell.execute_reply": "2024-07-06T02:00:20.442725Z",
     "shell.execute_reply.started": "2024-07-06T02:00:20.440283Z"
    }
   },
   "source": [
    "# Importing SQL data\n",
    "\n",
    "Python's SQLAlchemy and Pandas libraries make it easy to import SQL tables into your script. Many different types of SQL (such as PostgreSQL) are supported, but this example will focus on a SQLite table created within PFN's appendix.\n",
    "\n",
    "In order to import data from a database, we'll first need to connect to it via SQLAlchemy's `create_engine` function:"
   ]
  },
  {
   "cell_type": "code",
   "execution_count": 6,
   "id": "fbf99aca-c872-409f-b8da-70b237d34c17",
   "metadata": {
    "execution": {
     "iopub.execute_input": "2024-07-06T03:44:03.002882Z",
     "iopub.status.busy": "2024-07-06T03:44:03.002882Z",
     "iopub.status.idle": "2024-07-06T03:44:03.019733Z",
     "shell.execute_reply": "2024-07-06T03:44:03.019733Z",
     "shell.execute_reply.started": "2024-07-06T03:44:03.002882Z"
    }
   },
   "outputs": [],
   "source": [
    "e = create_engine('sqlite:///../Appendix/nvcu_db.db')\n",
    "# Based on: https://docs.sqlalchemy.org/en/20/dialects/sqlite.html#pysqlite\n",
    "# Note that the first 3 forward slashes indicate that a relative path \n",
    "# will be used. The actual relative path ('../Appendix/nvcu_db.db') follows\n",
    "# those forward slashes.\n",
    "# For guidance on creating engines for other database types (such as PostgreSQL,\n",
    "# MySQL, and others), visit \n",
    "# https://docs.sqlalchemy.org/en/20/core/engines.html#database-urls ."
   ]
  },
  {
   "cell_type": "markdown",
   "id": "42c34508-9daf-46e1-aa29-f55b72c2b7ff",
   "metadata": {},
   "source": [
    "Once this SQLAlchemy engine has been created, we can use it to read in data from our database:"
   ]
  },
  {
   "cell_type": "code",
   "execution_count": 7,
   "id": "6fec1a42-fd89-41df-bf38-0ec720d072cc",
   "metadata": {
    "execution": {
     "iopub.execute_input": "2024-07-06T03:44:03.020737Z",
     "iopub.status.busy": "2024-07-06T03:44:03.020737Z",
     "iopub.status.idle": "2024-07-06T03:44:03.145897Z",
     "shell.execute_reply": "2024-07-06T03:44:03.145897Z",
     "shell.execute_reply.started": "2024-07-06T03:44:03.020737Z"
    }
   },
   "outputs": [
    {
     "data": {
      "text/html": [
       "<div>\n",
       "<style scoped>\n",
       "    .dataframe tbody tr th:only-of-type {\n",
       "        vertical-align: middle;\n",
       "    }\n",
       "\n",
       "    .dataframe tbody tr th {\n",
       "        vertical-align: top;\n",
       "    }\n",
       "\n",
       "    .dataframe thead th {\n",
       "        text-align: right;\n",
       "    }\n",
       "</style>\n",
       "<table border=\"1\" class=\"dataframe\">\n",
       "  <thead>\n",
       "    <tr style=\"text-align: right;\">\n",
       "      <th></th>\n",
       "      <th>first_name</th>\n",
       "      <th>last_name</th>\n",
       "      <th>gender</th>\n",
       "      <th>matriculation_year</th>\n",
       "      <th>matriculation_number</th>\n",
       "      <th>student_id</th>\n",
       "      <th>date_of_birth</th>\n",
       "      <th>college</th>\n",
       "      <th>class_of</th>\n",
       "      <th>level</th>\n",
       "      <th>level_for_sorting</th>\n",
       "    </tr>\n",
       "  </thead>\n",
       "  <tbody>\n",
       "    <tr>\n",
       "      <th>0</th>\n",
       "      <td>Rachel</td>\n",
       "      <td>Silva</td>\n",
       "      <td>F</td>\n",
       "      <td>2020</td>\n",
       "      <td>1</td>\n",
       "      <td>2020-1</td>\n",
       "      <td>2002-12-16</td>\n",
       "      <td>STC</td>\n",
       "      <td>2024</td>\n",
       "      <td>Fr</td>\n",
       "      <td>0</td>\n",
       "    </tr>\n",
       "    <tr>\n",
       "      <th>1</th>\n",
       "      <td>Brooke</td>\n",
       "      <td>Bradford</td>\n",
       "      <td>F</td>\n",
       "      <td>2020</td>\n",
       "      <td>2</td>\n",
       "      <td>2020-2</td>\n",
       "      <td>2002-09-26</td>\n",
       "      <td>STM</td>\n",
       "      <td>2024</td>\n",
       "      <td>Fr</td>\n",
       "      <td>0</td>\n",
       "    </tr>\n",
       "    <tr>\n",
       "      <th>2</th>\n",
       "      <td>Angela</td>\n",
       "      <td>Cameron</td>\n",
       "      <td>F</td>\n",
       "      <td>2020</td>\n",
       "      <td>3</td>\n",
       "      <td>2020-3</td>\n",
       "      <td>2002-05-18</td>\n",
       "      <td>STC</td>\n",
       "      <td>2024</td>\n",
       "      <td>Fr</td>\n",
       "      <td>0</td>\n",
       "    </tr>\n",
       "    <tr>\n",
       "      <th>3</th>\n",
       "      <td>Tonya</td>\n",
       "      <td>Hampton</td>\n",
       "      <td>F</td>\n",
       "      <td>2020</td>\n",
       "      <td>4</td>\n",
       "      <td>2020-4</td>\n",
       "      <td>2002-11-15</td>\n",
       "      <td>STC</td>\n",
       "      <td>2024</td>\n",
       "      <td>Fr</td>\n",
       "      <td>0</td>\n",
       "    </tr>\n",
       "    <tr>\n",
       "      <th>4</th>\n",
       "      <td>Tammy</td>\n",
       "      <td>Gardner</td>\n",
       "      <td>F</td>\n",
       "      <td>2020</td>\n",
       "      <td>5</td>\n",
       "      <td>2020-5</td>\n",
       "      <td>2002-06-21</td>\n",
       "      <td>STM</td>\n",
       "      <td>2024</td>\n",
       "      <td>Fr</td>\n",
       "      <td>0</td>\n",
       "    </tr>\n",
       "  </tbody>\n",
       "</table>\n",
       "</div>"
      ],
      "text/plain": [
       "  first_name last_name gender  matriculation_year  matriculation_number  \\\n",
       "0     Rachel     Silva      F                2020                     1   \n",
       "1     Brooke  Bradford      F                2020                     2   \n",
       "2     Angela   Cameron      F                2020                     3   \n",
       "3      Tonya   Hampton      F                2020                     4   \n",
       "4      Tammy   Gardner      F                2020                     5   \n",
       "\n",
       "  student_id date_of_birth college  class_of level  level_for_sorting  \n",
       "0     2020-1    2002-12-16     STC      2024    Fr                  0  \n",
       "1     2020-2    2002-09-26     STM      2024    Fr                  0  \n",
       "2     2020-3    2002-05-18     STC      2024    Fr                  0  \n",
       "3     2020-4    2002-11-15     STC      2024    Fr                  0  \n",
       "4     2020-5    2002-06-21     STM      2024    Fr                  0  "
      ]
     },
     "execution_count": 7,
     "metadata": {},
     "output_type": "execute_result"
    }
   ],
   "source": [
    "df_curr_enrollment_sql = pd.read_sql(\n",
    "    'select * from curr_enrollment', con = e)\n",
    "df_curr_enrollment_sql.head()"
   ]
  },
  {
   "cell_type": "markdown",
   "id": "86ca3c36-b68d-41c1-acfb-c88a3c6b009c",
   "metadata": {},
   "source": [
    "SQL is a whole language in itself, but you need not be a SQL expert to use Python to connect to database tables. In the above cell, `'select * from curr_enrollment'` is a line of SQL code that requests all fields (and, thus, all data) to be retrieved from the `curr_enrollment` SQLite table. \n",
    "\n",
    "SQL makes it possible to select specific columns, choose only particular groups of rows, and perform other more advanced operations. However, many of these operations can also be performed within Python. If you're already a SQL whiz, feel free to pass more advanced code to read_sql; if you're a SQL novice, 'select * from [table]' will still get you pretty far!\n",
    "\n",
    "*Also note that a SQLAlchemy engine can be used as the 'con' argument within both read_sql() and to_sql(). This is mentioned explicitly within Pandas' [to_sql documentation](https://pandas.pydata.org/pandas-docs/stable/reference/api/pandas.DataFrame.to_sql.html), but can also be inferred from the [read_sql() page](https://pandas.pydata.org/pandas-docs/stable/reference/api/pandas.read_sql.html). This page states that 'con' needs to be a 'SQLAlchemy connectable,' and [the source code for sql.py()](https://github.com/pandas-dev/pandas/blob/v2.2.2/pandas/io/sql.py#L570-L743) specifies that 'SQLAlchemy connectable' can be either an engine or a connection. I mention this in part because using an engine as your argument for the 'con' parameter in read_sql and to_sql can save you a bit of code.*"
   ]
  },
  {
   "cell_type": "markdown",
   "id": "bfde2262-7700-4d5e-9dfb-dcf9ab0c38d1",
   "metadata": {},
   "source": [
    "# Importing HTML data\n",
    "\n",
    "There are a number of ways to access data directly from the internet via Python. One means of doing so is `pd.read_html()`, which lets you read HTML tables from websites driectly into Pandas DataFrames.\n",
    "\n",
    "The following code imports a list of example Census API connection strings into a DataFrame. The [0] at the end of the read_html() call instructs Pandas to convert *first* table retrieved by read_html() into a DataFrame. (There's only one HTML table on this page, but it's still necessary to add [0].)\n",
    "\n",
    "Note that the import isn't perfect: for some reason, the data on the 'Number' field on the right didn't get downloaded successfully. As noted in the [read_html() documentation](https://pandas.pydata.org/pandas-docs/stable/reference/api/pandas.read_html.html), 'Expect to do some cleanup after you call this function.'"
   ]
  },
  {
   "cell_type": "code",
   "execution_count": 8,
   "id": "705e00ec-43cf-45fa-a791-5cd51fbcd471",
   "metadata": {
    "execution": {
     "iopub.execute_input": "2024-07-06T03:44:03.146909Z",
     "iopub.status.busy": "2024-07-06T03:44:03.146909Z",
     "iopub.status.idle": "2024-07-06T03:44:03.640379Z",
     "shell.execute_reply": "2024-07-06T03:44:03.640379Z",
     "shell.execute_reply.started": "2024-07-06T03:44:03.146909Z"
    }
   },
   "outputs": [
    {
     "data": {
      "text/html": [
       "<div>\n",
       "<style scoped>\n",
       "    .dataframe tbody tr th:only-of-type {\n",
       "        vertical-align: middle;\n",
       "    }\n",
       "\n",
       "    .dataframe tbody tr th {\n",
       "        vertical-align: top;\n",
       "    }\n",
       "\n",
       "    .dataframe thead th {\n",
       "        text-align: right;\n",
       "    }\n",
       "</style>\n",
       "<table border=\"1\" class=\"dataframe\">\n",
       "  <thead>\n",
       "    <tr style=\"text-align: right;\">\n",
       "      <th></th>\n",
       "      <th>Geography Hierarchy</th>\n",
       "      <th>Geography Level</th>\n",
       "      <th>Example URL</th>\n",
       "      <th>Number</th>\n",
       "    </tr>\n",
       "  </thead>\n",
       "  <tbody>\n",
       "    <tr>\n",
       "      <th>0</th>\n",
       "      <td>us</td>\n",
       "      <td>010</td>\n",
       "      <td>https://api.census.gov/data/2022/acs/acs5?get=...</td>\n",
       "      <td>NaN</td>\n",
       "    </tr>\n",
       "    <tr>\n",
       "      <th>1</th>\n",
       "      <td>us</td>\n",
       "      <td>010</td>\n",
       "      <td>https://api.census.gov/data/2022/acs/acs5?get=...</td>\n",
       "      <td>NaN</td>\n",
       "    </tr>\n",
       "    <tr>\n",
       "      <th>2</th>\n",
       "      <td>region</td>\n",
       "      <td>020</td>\n",
       "      <td>https://api.census.gov/data/2022/acs/acs5?get=...</td>\n",
       "      <td>NaN</td>\n",
       "    </tr>\n",
       "    <tr>\n",
       "      <th>3</th>\n",
       "      <td>region</td>\n",
       "      <td>020</td>\n",
       "      <td>https://api.census.gov/data/2022/acs/acs5?get=...</td>\n",
       "      <td>NaN</td>\n",
       "    </tr>\n",
       "    <tr>\n",
       "      <th>4</th>\n",
       "      <td>division</td>\n",
       "      <td>030</td>\n",
       "      <td>https://api.census.gov/data/2022/acs/acs5?get=...</td>\n",
       "      <td>NaN</td>\n",
       "    </tr>\n",
       "  </tbody>\n",
       "</table>\n",
       "</div>"
      ],
      "text/plain": [
       "  Geography Hierarchy Geography Level  \\\n",
       "0                  us             010   \n",
       "1                  us             010   \n",
       "2              region             020   \n",
       "3              region             020   \n",
       "4            division             030   \n",
       "\n",
       "                                         Example URL  Number  \n",
       "0  https://api.census.gov/data/2022/acs/acs5?get=...     NaN  \n",
       "1  https://api.census.gov/data/2022/acs/acs5?get=...     NaN  \n",
       "2  https://api.census.gov/data/2022/acs/acs5?get=...     NaN  \n",
       "3  https://api.census.gov/data/2022/acs/acs5?get=...     NaN  \n",
       "4  https://api.census.gov/data/2022/acs/acs5?get=...     NaN  "
      ]
     },
     "execution_count": 8,
     "metadata": {},
     "output_type": "execute_result"
    }
   ],
   "source": [
    "df_census_examples = pd.read_html(\n",
    "    'https://api.census.gov/data/2022/acs/acs5/examples.html')[0]\n",
    "df_census_examples.head()"
   ]
  },
  {
   "cell_type": "markdown",
   "id": "263dcc28-2ae8-4960-99a2-bce428b3474d",
   "metadata": {},
   "source": [
    "# What about exports?"
   ]
  },
  {
   "cell_type": "markdown",
   "id": "439afab9-0167-4a07-9254-bca8579a7153",
   "metadata": {},
   "source": [
    "The above examples focused on *importing* data; however, Pandas also makes it easy to *export* data to a variety of formats."
   ]
  },
  {
   "cell_type": "markdown",
   "id": "e81fa919-8e6d-48f2-a3a5-1656512f5259",
   "metadata": {},
   "source": [
    "## Exporting data to a .csv file:"
   ]
  },
  {
   "cell_type": "code",
   "execution_count": 9,
   "id": "2ee4d5bb-47bf-4f06-82a5-60bd4f5e522f",
   "metadata": {
    "execution": {
     "iopub.execute_input": "2024-07-06T03:44:03.641396Z",
     "iopub.status.busy": "2024-07-06T03:44:03.641396Z",
     "iopub.status.idle": "2024-07-06T03:44:03.676409Z",
     "shell.execute_reply": "2024-07-06T03:44:03.676409Z",
     "shell.execute_reply.started": "2024-07-06T03:44:03.641396Z"
    }
   },
   "outputs": [],
   "source": [
    "df_curr_enrollment_csv.to_csv('curr_enrollment_export.csv', index = False)"
   ]
  },
  {
   "cell_type": "markdown",
   "id": "6f1cca08-7551-4c7c-b735-b26ce379091b",
   "metadata": {
    "execution": {
     "iopub.execute_input": "2024-07-06T03:20:04.157052Z",
     "iopub.status.busy": "2024-07-06T03:20:04.157052Z",
     "iopub.status.idle": "2024-07-06T03:20:04.160343Z",
     "shell.execute_reply": "2024-07-06T03:20:04.160343Z",
     "shell.execute_reply.started": "2024-07-06T03:20:04.157052Z"
    }
   },
   "source": [
    "## Exporting data to an .xlsx file:"
   ]
  },
  {
   "cell_type": "code",
   "execution_count": 10,
   "id": "aa9702ee-ab7f-42d9-8359-458567ea8c98",
   "metadata": {
    "execution": {
     "iopub.execute_input": "2024-07-06T03:44:03.677423Z",
     "iopub.status.busy": "2024-07-06T03:44:03.677423Z",
     "iopub.status.idle": "2024-07-06T03:44:06.022620Z",
     "shell.execute_reply": "2024-07-06T03:44:06.022620Z",
     "shell.execute_reply.started": "2024-07-06T03:44:03.677423Z"
    }
   },
   "outputs": [],
   "source": [
    "df_curr_enrollment_xlsx.to_excel('curr_enrollment_export.xlsx', index = False)"
   ]
  },
  {
   "cell_type": "markdown",
   "id": "d35ad417-ee1c-46c3-8684-c0142f777c91",
   "metadata": {},
   "source": [
    "For examples of exporting data to SQL tables, visit the nvcu_db_gen.ipynb file within the Appendix."
   ]
  },
  {
   "cell_type": "markdown",
   "id": "679e2832-cb2d-4943-b99d-f302cb31ce27",
   "metadata": {},
   "source": [
    "## A caveat about data types"
   ]
  },
  {
   "cell_type": "markdown",
   "id": "a4f7700d-2056-49a6-9849-e18e265f7bca",
   "metadata": {},
   "source": [
    "You'll often find that using read_csv(), read_excel(), and read_sql() will create identical DataFrames (as long as the source data is the same). However, in some cases, the data types returned by these functions will differ--requiring you to add in some additional code to resolve this discrepancy.\n",
    "\n",
    "For instance, if you retrieve a dataset from a SQL table, dates of birth might be formatted as DateTime values. Meanwhile, those same values may be formatted as strings if they were imported from a .csv file. Therefore, if you're switching your import source from a SQL table to a .csv file or vice versa, it's not a bad idea to check the data types of your imported fields using [df.dtypes](https://pandas.pydata.org/pandas-docs/stable/reference/api/pandas.DataFrame.dtypes.html). "
   ]
  }
 ],
 "metadata": {
  "kernelspec": {
   "display_name": "Python 3 (ipykernel)",
   "language": "python",
   "name": "python3"
  },
  "language_info": {
   "codemirror_mode": {
    "name": "ipython",
    "version": 3
   },
   "file_extension": ".py",
   "mimetype": "text/x-python",
   "name": "python",
   "nbconvert_exporter": "python",
   "pygments_lexer": "ipython3",
   "version": "3.12.3"
  }
 },
 "nbformat": 4,
 "nbformat_minor": 5
}
