{
 "cells": [
  {
   "cell_type": "markdown",
   "id": "0e80b39c-a4e3-4b08-86b1-335f5b659039",
   "metadata": {},
   "source": [
    "# Descriptive Stats (Work in progress)\n",
    "\n",
    "By Kenneth Burchfiel\n",
    "\n",
    "Released under the MIT license\n",
    "\n",
    "This notebook demonstrates how to calculate descriptive statistics in Python using the Pandas library. One benefit of performing these calculations in Python (rather than Excel, Google Sheets, or another spreadsheet program) is that, once you have these tasks scripted, you can quickly rerun these tasks whenever the original data gets updated.\\* You can even have your computer run the script on a daily or hourly basis, thus freeing up time you'd need to spend on busywork for more interesting tasks. \n",
    "\n",
    "For example, suppose leaders at NVCU would like to know, on a daily basis, how spring survey results differ from fall and winter ones. (This number could change each day as new spring survey data gets released.) One way to accomplish this task would be to retrieve survey data from your database each day; paste it into Excel or Google Sheets; pivot the data, and then share the output. However, you could also accomplish these same steps in Python. While this would likely take you longer the first time around, you could then create updated analyses of your data in mere seconds. This notebook will show you how!\n",
    "\n",
    "\\* There are certainly ways to automate Excel tasks as well (e.g. using Visual Basic). I don't have any experience with Visual Basic, so I'm not the best person to compare these two tools; however, I have no doubt that learning it would take some time, and given Python's versatility and power, I would recommend applying that time to learning Python instead. (You can get an estimate of the world's interest in Python versus Visual Basic by checking out the [TIOBE index](https://www.tiobe.com/tiobe-index/).)"
   ]
  },
  {
   "cell_type": "code",
   "execution_count": 1,
   "id": "8841dd31-a284-4232-98f3-063e71f42f52",
   "metadata": {
    "execution": {
     "iopub.execute_input": "2024-07-07T03:57:20.447857Z",
     "iopub.status.busy": "2024-07-07T03:57:20.447857Z",
     "iopub.status.idle": "2024-07-07T03:57:20.965493Z",
     "shell.execute_reply": "2024-07-07T03:57:20.965493Z",
     "shell.execute_reply.started": "2024-07-07T03:57:20.447857Z"
    }
   },
   "outputs": [],
   "source": [
    "import pandas as pd\n",
    "import numpy as np"
   ]
  },
  {
   "cell_type": "markdown",
   "id": "9d65ac89-b778-4e44-bc1b-c879e66df038",
   "metadata": {},
   "source": [
    "We'll first import our combined set of fall, spring, and winter student survey results; these results were created within data_prep.ipynb. (Note that these results also include college and level data from our curr_enrollment SQL table; that way, we can evaluate average results by level and college.)"
   ]
  },
  {
   "cell_type": "code",
   "execution_count": 3,
   "id": "225c6978-37d5-4a62-a505-fd37da30a44f",
   "metadata": {
    "execution": {
     "iopub.execute_input": "2024-07-07T03:57:25.592698Z",
     "iopub.status.busy": "2024-07-07T03:57:25.592698Z",
     "iopub.status.idle": "2024-07-07T03:57:25.638242Z",
     "shell.execute_reply": "2024-07-07T03:57:25.638242Z",
     "shell.execute_reply.started": "2024-07-07T03:57:25.592698Z"
    }
   },
   "outputs": [
    {
     "data": {
      "text/html": [
       "<div>\n",
       "<style scoped>\n",
       "    .dataframe tbody tr th:only-of-type {\n",
       "        vertical-align: middle;\n",
       "    }\n",
       "\n",
       "    .dataframe tbody tr th {\n",
       "        vertical-align: top;\n",
       "    }\n",
       "\n",
       "    .dataframe thead th {\n",
       "        text-align: right;\n",
       "    }\n",
       "</style>\n",
       "<table border=\"1\" class=\"dataframe\">\n",
       "  <thead>\n",
       "    <tr style=\"text-align: right;\">\n",
       "      <th></th>\n",
       "      <th>student_id</th>\n",
       "      <th>starting_year</th>\n",
       "      <th>season</th>\n",
       "      <th>score</th>\n",
       "      <th>season_order</th>\n",
       "      <th>college</th>\n",
       "      <th>level</th>\n",
       "      <th>level_for_sorting</th>\n",
       "    </tr>\n",
       "  </thead>\n",
       "  <tbody>\n",
       "    <tr>\n",
       "      <th>0</th>\n",
       "      <td>2020-1</td>\n",
       "      <td>2023</td>\n",
       "      <td>Fall</td>\n",
       "      <td>88</td>\n",
       "      <td>0</td>\n",
       "      <td>STC</td>\n",
       "      <td>Fr</td>\n",
       "      <td>0</td>\n",
       "    </tr>\n",
       "    <tr>\n",
       "      <th>1</th>\n",
       "      <td>2020-2</td>\n",
       "      <td>2023</td>\n",
       "      <td>Fall</td>\n",
       "      <td>37</td>\n",
       "      <td>0</td>\n",
       "      <td>STM</td>\n",
       "      <td>Fr</td>\n",
       "      <td>0</td>\n",
       "    </tr>\n",
       "    <tr>\n",
       "      <th>2</th>\n",
       "      <td>2020-3</td>\n",
       "      <td>2023</td>\n",
       "      <td>Fall</td>\n",
       "      <td>54</td>\n",
       "      <td>0</td>\n",
       "      <td>STC</td>\n",
       "      <td>Fr</td>\n",
       "      <td>0</td>\n",
       "    </tr>\n",
       "    <tr>\n",
       "      <th>3</th>\n",
       "      <td>2020-4</td>\n",
       "      <td>2023</td>\n",
       "      <td>Fall</td>\n",
       "      <td>56</td>\n",
       "      <td>0</td>\n",
       "      <td>STC</td>\n",
       "      <td>Fr</td>\n",
       "      <td>0</td>\n",
       "    </tr>\n",
       "    <tr>\n",
       "      <th>4</th>\n",
       "      <td>2020-5</td>\n",
       "      <td>2023</td>\n",
       "      <td>Fall</td>\n",
       "      <td>77</td>\n",
       "      <td>0</td>\n",
       "      <td>STM</td>\n",
       "      <td>Fr</td>\n",
       "      <td>0</td>\n",
       "    </tr>\n",
       "  </tbody>\n",
       "</table>\n",
       "</div>"
      ],
      "text/plain": [
       "  student_id  starting_year season  score  season_order college level  \\\n",
       "0     2020-1           2023   Fall     88             0     STC    Fr   \n",
       "1     2020-2           2023   Fall     37             0     STM    Fr   \n",
       "2     2020-3           2023   Fall     54             0     STC    Fr   \n",
       "3     2020-4           2023   Fall     56             0     STC    Fr   \n",
       "4     2020-5           2023   Fall     77             0     STM    Fr   \n",
       "\n",
       "   level_for_sorting  \n",
       "0                  0  \n",
       "1                  0  \n",
       "2                  0  \n",
       "3                  0  \n",
       "4                  0  "
      ]
     },
     "execution_count": 3,
     "metadata": {},
     "output_type": "execute_result"
    }
   ],
   "source": [
    "df_survey_results = pd.read_csv('../Data_Prep/2023_survey_results.csv')\n",
    "df_survey_results.head()"
   ]
  },
  {
   "cell_type": "markdown",
   "id": "d8ac79fc-e7e4-44c2-8719-a2439e61188d",
   "metadata": {},
   "source": [
    "## Evaluating changes in university-wide survey results over time"
   ]
  },
  {
   "cell_type": "code",
   "execution_count": 4,
   "id": "42fd3b49-6416-4af8-9c09-d15298c86248",
   "metadata": {
    "execution": {
     "iopub.execute_input": "2024-07-07T03:57:31.397154Z",
     "iopub.status.busy": "2024-07-07T03:57:31.397154Z",
     "iopub.status.idle": "2024-07-07T03:57:31.413686Z",
     "shell.execute_reply": "2024-07-07T03:57:31.413686Z",
     "shell.execute_reply.started": "2024-07-07T03:57:31.397154Z"
    }
   },
   "outputs": [
    {
     "data": {
      "text/html": [
       "<div>\n",
       "<style scoped>\n",
       "    .dataframe tbody tr th:only-of-type {\n",
       "        vertical-align: middle;\n",
       "    }\n",
       "\n",
       "    .dataframe tbody tr th {\n",
       "        vertical-align: top;\n",
       "    }\n",
       "\n",
       "    .dataframe thead th {\n",
       "        text-align: right;\n",
       "    }\n",
       "</style>\n",
       "<table border=\"1\" class=\"dataframe\">\n",
       "  <thead>\n",
       "    <tr style=\"text-align: right;\">\n",
       "      <th></th>\n",
       "      <th>starting_year</th>\n",
       "      <th>season_order</th>\n",
       "      <th>season</th>\n",
       "      <th>score</th>\n",
       "    </tr>\n",
       "  </thead>\n",
       "  <tbody>\n",
       "    <tr>\n",
       "      <th>0</th>\n",
       "      <td>2023</td>\n",
       "      <td>0</td>\n",
       "      <td>Fall</td>\n",
       "      <td>69.682251</td>\n",
       "    </tr>\n",
       "    <tr>\n",
       "      <th>1</th>\n",
       "      <td>2023</td>\n",
       "      <td>1</td>\n",
       "      <td>Winter</td>\n",
       "      <td>64.199483</td>\n",
       "    </tr>\n",
       "    <tr>\n",
       "      <th>2</th>\n",
       "      <td>2023</td>\n",
       "      <td>2</td>\n",
       "      <td>Spring</td>\n",
       "      <td>72.049622</td>\n",
       "    </tr>\n",
       "  </tbody>\n",
       "</table>\n",
       "</div>"
      ],
      "text/plain": [
       "   starting_year  season_order  season      score\n",
       "0           2023             0    Fall  69.682251\n",
       "1           2023             1  Winter  64.199483\n",
       "2           2023             2  Spring  72.049622"
      ]
     },
     "execution_count": 4,
     "metadata": {},
     "output_type": "execute_result"
    }
   ],
   "source": [
    "df_survey_results.pivot_table(\n",
    "    index = ['starting_year', 'season_order', 'season'], \n",
    "    values = 'score', aggfunc = 'mean').reset_index()"
   ]
  }
 ],
 "metadata": {
  "kernelspec": {
   "display_name": "Python 3 (ipykernel)",
   "language": "python",
   "name": "python3"
  },
  "language_info": {
   "codemirror_mode": {
    "name": "ipython",
    "version": 3
   },
   "file_extension": ".py",
   "mimetype": "text/x-python",
   "name": "python",
   "nbconvert_exporter": "python",
   "pygments_lexer": "ipython3",
   "version": "3.12.3"
  }
 },
 "nbformat": 4,
 "nbformat_minor": 5
}
