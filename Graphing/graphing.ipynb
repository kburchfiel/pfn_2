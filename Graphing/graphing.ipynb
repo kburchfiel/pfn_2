{
 "cells": [
  {
   "cell_type": "markdown",
   "id": "26e2281a-45bb-4c1c-80fb-efc0041b1b0f",
   "metadata": {
    "execution": {
     "iopub.execute_input": "2024-05-26T01:00:26.906964Z",
     "iopub.status.busy": "2024-05-26T01:00:26.905963Z",
     "iopub.status.idle": "2024-05-26T01:00:27.243338Z",
     "shell.execute_reply": "2024-05-26T01:00:27.243338Z",
     "shell.execute_reply.started": "2024-05-26T01:00:26.906964Z"
    }
   },
   "source": [
    "# Creating Interactive and Static Charts with Plotly [Work in progress]\n",
    "\n",
    "By Kenneth Burchfiel\n",
    "\n",
    "Released under the MIT License\n",
    "\n",
    "In this section, we'll learn how to use the Plotly library to create bar, line, and scatter plots. We'll then save these charts to both interactive HTML files and static .png files.\n",
    "\n",
    "When I was first learning Python, I mainly used Matplotlib for my charts. Matplotlib is a great library as well, but I switched over to Plotly for as my default chart library for several reasons:\n",
    "\n",
    "1. Plotly makes it easy to produce both interactive and static versions of a given chart. These interactive versions, which work great on websites (but can also be opened as standalone HTML files), allow users to access more information about the data than they could via an image of the chart alone.\n",
    "\n",
    "2. Plotly integrates very well with Dash, a Python library that allows you to build interactive web apps within Python. (A later section of Python for Nonprofits will demonstrate how to build both simple and more complex Dash web apps).\n",
    "\n",
    "3. My general sense is that Plotly requires less code to produce a desired result than does Matplotlib, although I don't have any hard data on which to base this point.\n",
    "\n",
    "*Notes:* \n",
    "\n",
    "1. Plotly offers very extensive documentation of their various chart options on their website. For an overview of Plotly Express features, visit https://plotly.com/python/plotly-express/ . The top section of that page will also let you navigate to various chart-specific documentation, such as https://plotly.com/python/bar-charts/ for bar charts and https://plotly.com/python/line-charts/ . This notebook is by no means designed to serve as a substitute for that documentation; instead, it provides a basic overview in order to help build your familiarity with this powerful, yet easy-to-use library.\n",
    "\n",
    "2. This notebook will show only Plotly Express chart options. Plotly charts can also be created as 'graph objects' outside of the constraints of the Plotly Express codebase, but I have found that express-based charts almost always meet my needs. As the [documentation](https://plotly.com/python/plotly-express/) states, \"Any figure created in a single function call with Plotly Express could be created using graph objects alone, but with between 5 and 100 times more code.\""
   ]
  },
  {
   "cell_type": "code",
   "execution_count": null,
   "id": "0d88eebf-7d60-4048-a5d1-45538c9a8cff",
   "metadata": {},
   "outputs": [],
   "source": []
  }
 ],
 "metadata": {
  "kernelspec": {
   "display_name": "Python 3 (ipykernel)",
   "language": "python",
   "name": "python3"
  },
  "language_info": {
   "codemirror_mode": {
    "name": "ipython",
    "version": 3
   },
   "file_extension": ".py",
   "mimetype": "text/x-python",
   "name": "python",
   "nbconvert_exporter": "python",
   "pygments_lexer": "ipython3",
   "version": "3.12.3"
  }
 },
 "nbformat": 4,
 "nbformat_minor": 5
}
