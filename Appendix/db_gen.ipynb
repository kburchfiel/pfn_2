{
 "cells": [
  {
   "cell_type": "markdown",
   "id": "b3e351e6-4b31-4c87-a572-89f269386811",
   "metadata": {},
   "source": [
    "## Database generator:\n",
    "\n",
    "A script for creating a SQLite database whose contents can be used within Python for Nonprofits.\n",
    "\n",
    "By Kenneth Burchfiel\n",
    "\n",
    "Released under the MIT license"
   ]
  },
  {
   "cell_type": "code",
   "execution_count": 1,
   "id": "d28055bf-dfd1-4ed0-8c56-c6d8fd44801b",
   "metadata": {},
   "outputs": [],
   "source": [
    "import pandas as pd"
   ]
  },
  {
   "cell_type": "markdown",
   "id": "9147c72c-5ba9-4f2e-91f2-1beba199bd16",
   "metadata": {},
   "source": [
    "## Creating database tables for a fictional university\n",
    "\n",
    "This fictional university will be composed of 4 different colleges, each of which will contain 2000-3000 students."
   ]
  },
  {
   "cell_type": "code",
   "execution_count": null,
   "id": "37a81fcf-2de9-4526-8581-3abe209137ee",
   "metadata": {},
   "outputs": [],
   "source": []
  },
  {
   "cell_type": "code",
   "execution_count": null,
   "id": "276883c5-38f0-49fe-a8cb-d342ee82bc29",
   "metadata": {},
   "outputs": [],
   "source": []
  }
 ],
 "metadata": {
  "kernelspec": {
   "display_name": "Python 3 (ipykernel)",
   "language": "python",
   "name": "python3"
  },
  "language_info": {
   "codemirror_mode": {
    "name": "ipython",
    "version": 3
   },
   "file_extension": ".py",
   "mimetype": "text/x-python",
   "name": "python",
   "nbconvert_exporter": "python",
   "pygments_lexer": "ipython3",
   "version": "3.12.3"
  }
 },
 "nbformat": 4,
 "nbformat_minor": 5
}
