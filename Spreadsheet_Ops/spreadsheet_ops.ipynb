{
 "cells": [
  {
   "cell_type": "markdown",
   "id": "0e80b39c-a4e3-4b08-86b1-335f5b659039",
   "metadata": {},
   "source": [
    "# Spreadsheet Operations [Work in progress]\n",
    "\n",
    "By Kenneth Burchfiel\n",
    "\n",
    "Released under the MIT license\n",
    "\n",
    "This notebook demonstrates how to execute spreadsheet operations in Python using the Pandas library. The benefit of performing these tasks in Python (rather than Excel, Google Sheets, or another spreadsheet program) is that, once you have these tasks scripted, you can quickly rerun these tasks whenever the original data gets updated.\\* You can even have your computer run the script on a daily or hourly basis, thus freeing up time you'd need to spend on busywork for more interesting tasks. \n",
    "\n",
    "For example, suppose leaders at NVCU would like to know, on a daily basis, how many students are pursuing each major. (This number could change for multiple reasons: freshmen may select their initial major at different points during the school year; some older students might transfer majors; and other students might transfer into or out of the university during the academic year). One way to accomplish this task would be to retrieve enrollment by major data from your database each day; paste it into Excel or Google Sheets; pivot the data, and then share the output. However, you could also accomplish these same steps in Python. While this would likely take you longer the first time around, you could then create updated future copies of the data in mere seconds. This notebook will show you how!\n",
    "\n",
    "We'll only cover a small portion of Pandas' capabilities in this code; however, since Pandas is so central to data-related tasks in Python, we'll continue to build on the fundamentals shown here in future lessons.\n",
    "\n",
    "\\* There are certainly ways to automate Excel tasks as well (e.g. using Visual Basic). I don't have any experience with Visual Basic, so I'm not the best person to compare these two tools; however, I have no doubt that learning it would take some time, and given Python's versatility and power, I would recommend applying that time to learning Python instead. (You can get an estimate of the world's interest in Python versus Visual Basic by checking out the [TIOBE index](https://www.tiobe.com/tiobe-index/).)"
   ]
  },
  {
   "cell_type": "code",
   "execution_count": null,
   "id": "8841dd31-a284-4232-98f3-063e71f42f52",
   "metadata": {},
   "outputs": [],
   "source": []
  }
 ],
 "metadata": {
  "kernelspec": {
   "display_name": "Python 3 (ipykernel)",
   "language": "python",
   "name": "python3"
  },
  "language_info": {
   "codemirror_mode": {
    "name": "ipython",
    "version": 3
   },
   "file_extension": ".py",
   "mimetype": "text/x-python",
   "name": "python",
   "nbconvert_exporter": "python",
   "pygments_lexer": "ipython3",
   "version": "3.12.3"
  }
 },
 "nbformat": 4,
 "nbformat_minor": 5
}
