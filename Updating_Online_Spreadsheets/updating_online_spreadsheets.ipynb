{
 "cells": [
  {
   "cell_type": "markdown",
   "id": "fdd0f887-46a4-4f4f-99d0-ad3a51fd1ce7",
   "metadata": {},
   "source": [
    "# Updating Online Spreadsheets"
   ]
  }
 ],
 "metadata": {
  "kernelspec": {
   "display_name": "Python 3 (ipykernel)",
   "language": "python",
   "name": "python3"
  },
  "language_info": {
   "codemirror_mode": {
    "name": "ipython",
    "version": 3
   },
   "file_extension": ".py",
   "mimetype": "text/x-python",
   "name": "python",
   "nbconvert_exporter": "python",
   "pygments_lexer": "ipython3",
   "version": "3.12.3"
  }
 },
 "nbformat": 4,
 "nbformat_minor": 5
}
