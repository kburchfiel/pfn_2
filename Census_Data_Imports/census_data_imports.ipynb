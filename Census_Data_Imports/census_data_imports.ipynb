{
 "cells": [
  {
   "cell_type": "markdown",
   "id": "66cf34aa-0c18-4b12-854f-809a09caf479",
   "metadata": {},
   "source": [
    "# Census Data Imports (Work in Progress)\n",
    "\n",
    "The US Census is a fantastic source of free demographic data. Thankfully, we can easily access large amounts of this data at once via Python.\n",
    "\n",
    "Suppose you receive this letter from a graduating NVCU senior:\n",
    "\n",
    "Let's say that some NVCU graduating seniors are interested in settling down and raising a family a few years after they graduate. Therefore, they'd like to know what parts of the US have especially high percentages of married families with kids. However, they'd also like to avoid having to spend too much money on a home, so they're interested in regions with relatively low property costs. And finally, because they'd prefer to live in a growing region rather than a declining one, they want to know which areas have the highest 5-year population growth rates.\n",
    "\n",
    "In order to answer these questions, we'll use the Census API to retrieve marriage, home price, and population growth data for all US counties. We'll then combine this data together in order to create a 'Fit Index' that we can share with these seniors.\n",
    "\n",
    "By Kenneth Burchfiel\n",
    "\n",
    "Released under the MIT License"
   ]
  },
  {
   "cell_type": "code",
   "execution_count": 39,
   "id": "8cc57ef1-8e26-4d73-bb9c-a2dcdcf67cb6",
   "metadata": {
    "execution": {
     "iopub.execute_input": "2024-06-18T02:48:48.014483Z",
     "iopub.status.busy": "2024-06-18T02:48:48.014483Z",
     "iopub.status.idle": "2024-06-18T02:48:48.017612Z",
     "shell.execute_reply": "2024-06-18T02:48:48.017612Z",
     "shell.execute_reply.started": "2024-06-18T02:48:48.014483Z"
    }
   },
   "outputs": [],
   "source": [
    "import pandas as pd"
   ]
  },
  {
   "cell_type": "markdown",
   "id": "2d2d646e-6c7a-477a-913d-55ee542db4a6",
   "metadata": {},
   "source": [
    "# Part 1: Introducing the Census API"
   ]
  },
  {
   "cell_type": "markdown",
   "id": "cb6a7ede-ee95-4c35-beac-ea9c04220f2f",
   "metadata": {},
   "source": [
    "## Importing a Census API Key\n",
    "\n",
    "You can obtain a free Census API key [at this website.](https://api.census.gov/data/key_signup.html). The following cell imports my own personal key, so you'll need to replace this code with one that loads in your own API key."
   ]
  },
  {
   "cell_type": "code",
   "execution_count": 27,
   "id": "c5a6b38e-2fc6-4646-a151-111a07b5b012",
   "metadata": {
    "execution": {
     "iopub.execute_input": "2024-06-18T02:24:15.817820Z",
     "iopub.status.busy": "2024-06-18T02:24:15.817820Z",
     "iopub.status.idle": "2024-06-18T02:24:15.821824Z",
     "shell.execute_reply": "2024-06-18T02:24:15.821824Z",
     "shell.execute_reply.started": "2024-06-18T02:24:15.817820Z"
    }
   },
   "outputs": [],
   "source": [
    "with open ('census_api_key_path.txt') as file:\n",
    "    key_path = file.read()\n",
    "with open(key_path) as file:\n",
    "    key = file.read()"
   ]
  },
  {
   "cell_type": "code",
   "execution_count": 40,
   "id": "6f980e86-52ac-4208-b2ea-b26ce30d105e",
   "metadata": {
    "execution": {
     "iopub.execute_input": "2024-06-18T02:49:47.208804Z",
     "iopub.status.busy": "2024-06-18T02:49:47.208804Z",
     "iopub.status.idle": "2024-06-18T02:49:47.212784Z",
     "shell.execute_reply": "2024-06-18T02:49:47.212784Z",
     "shell.execute_reply.started": "2024-06-18T02:49:47.208804Z"
    }
   },
   "outputs": [
    {
     "data": {
      "text/plain": [
       "'eac3512bdfd84bf4a86f2051d6298bb57d1bbc9d'"
      ]
     },
     "execution_count": 40,
     "metadata": {},
     "output_type": "execute_result"
    }
   ],
   "source": [
    "key"
   ]
  },
  {
   "cell_type": "markdown",
   "id": "9a6bae9c-33b0-46d8-a372-32200a4f4d9d",
   "metadata": {},
   "source": [
    "Note: There is also a 'census' Python library (available via pypi and conda) that helps simplify the process of requesting API data. You may choose to use it for your own Census research, but I ended up not needing it for the data retrieval tasks shown below. In addition, foregoing the library allowed me to demonstrate how to retrieve data directly from an API, which you may find helpful when working with APIs that don't have a corresponding Python library. "
   ]
  },
  {
   "cell_type": "code",
   "execution_count": 38,
   "id": "3d883c58-4ecd-4c65-9890-35ba6954b387",
   "metadata": {
    "execution": {
     "iopub.execute_input": "2024-06-18T02:39:07.564781Z",
     "iopub.status.busy": "2024-06-18T02:39:07.564781Z",
     "iopub.status.idle": "2024-06-18T02:39:09.065845Z",
     "shell.execute_reply": "2024-06-18T02:39:09.065845Z",
     "shell.execute_reply.started": "2024-06-18T02:39:07.564781Z"
    }
   },
   "outputs": [
    {
     "data": {
      "text/html": [
       "<div>\n",
       "<style scoped>\n",
       "    .dataframe tbody tr th:only-of-type {\n",
       "        vertical-align: middle;\n",
       "    }\n",
       "\n",
       "    .dataframe tbody tr th {\n",
       "        vertical-align: top;\n",
       "    }\n",
       "\n",
       "    .dataframe thead th {\n",
       "        text-align: right;\n",
       "    }\n",
       "</style>\n",
       "<table border=\"1\" class=\"dataframe\">\n",
       "  <thead>\n",
       "    <tr style=\"text-align: right;\">\n",
       "      <th></th>\n",
       "      <th>NAME</th>\n",
       "      <th>B01001_001E</th>\n",
       "      <th>state</th>\n",
       "      <th>county</th>\n",
       "    </tr>\n",
       "  </thead>\n",
       "  <tbody>\n",
       "    <tr>\n",
       "      <th>0</th>\n",
       "      <td>Autauga County, Alabama</td>\n",
       "      <td>58761.0</td>\n",
       "      <td>01</td>\n",
       "      <td>001</td>\n",
       "    </tr>\n",
       "    <tr>\n",
       "      <th>1</th>\n",
       "      <td>Baldwin County, Alabama</td>\n",
       "      <td>233420.0</td>\n",
       "      <td>01</td>\n",
       "      <td>003</td>\n",
       "    </tr>\n",
       "    <tr>\n",
       "      <th>2</th>\n",
       "      <td>Barbour County, Alabama</td>\n",
       "      <td>24877.0</td>\n",
       "      <td>01</td>\n",
       "      <td>005</td>\n",
       "    </tr>\n",
       "    <tr>\n",
       "      <th>3</th>\n",
       "      <td>Bibb County, Alabama</td>\n",
       "      <td>22251.0</td>\n",
       "      <td>01</td>\n",
       "      <td>007</td>\n",
       "    </tr>\n",
       "    <tr>\n",
       "      <th>4</th>\n",
       "      <td>Blount County, Alabama</td>\n",
       "      <td>59077.0</td>\n",
       "      <td>01</td>\n",
       "      <td>009</td>\n",
       "    </tr>\n",
       "    <tr>\n",
       "      <th>...</th>\n",
       "      <td>...</td>\n",
       "      <td>...</td>\n",
       "      <td>...</td>\n",
       "      <td>...</td>\n",
       "    </tr>\n",
       "    <tr>\n",
       "      <th>3217</th>\n",
       "      <td>Vega Baja Municipio, Puerto Rico</td>\n",
       "      <td>54182.0</td>\n",
       "      <td>72</td>\n",
       "      <td>145</td>\n",
       "    </tr>\n",
       "    <tr>\n",
       "      <th>3218</th>\n",
       "      <td>Vieques Municipio, Puerto Rico</td>\n",
       "      <td>8199.0</td>\n",
       "      <td>72</td>\n",
       "      <td>147</td>\n",
       "    </tr>\n",
       "    <tr>\n",
       "      <th>3219</th>\n",
       "      <td>Villalba Municipio, Puerto Rico</td>\n",
       "      <td>21984.0</td>\n",
       "      <td>72</td>\n",
       "      <td>149</td>\n",
       "    </tr>\n",
       "    <tr>\n",
       "      <th>3220</th>\n",
       "      <td>Yabucoa Municipio, Puerto Rico</td>\n",
       "      <td>30313.0</td>\n",
       "      <td>72</td>\n",
       "      <td>151</td>\n",
       "    </tr>\n",
       "    <tr>\n",
       "      <th>3221</th>\n",
       "      <td>Yauco Municipio, Puerto Rico</td>\n",
       "      <td>33988.0</td>\n",
       "      <td>72</td>\n",
       "      <td>153</td>\n",
       "    </tr>\n",
       "  </tbody>\n",
       "</table>\n",
       "<p>3222 rows × 4 columns</p>\n",
       "</div>"
      ],
      "text/plain": [
       "                                  NAME  B01001_001E state county\n",
       "0              Autauga County, Alabama      58761.0    01    001\n",
       "1              Baldwin County, Alabama     233420.0    01    003\n",
       "2              Barbour County, Alabama      24877.0    01    005\n",
       "3                 Bibb County, Alabama      22251.0    01    007\n",
       "4               Blount County, Alabama      59077.0    01    009\n",
       "...                                ...          ...   ...    ...\n",
       "3217  Vega Baja Municipio, Puerto Rico      54182.0    72    145\n",
       "3218    Vieques Municipio, Puerto Rico       8199.0    72    147\n",
       "3219   Villalba Municipio, Puerto Rico      21984.0    72    149\n",
       "3220    Yabucoa Municipio, Puerto Rico      30313.0    72    151\n",
       "3221      Yauco Municipio, Puerto Rico      33988.0    72    153\n",
       "\n",
       "[3222 rows x 4 columns]"
      ]
     },
     "execution_count": 38,
     "metadata": {},
     "output_type": "execute_result"
    }
   ],
   "source": [
    "## Example of reading data from the Census library into a Pandas DataFrame:\n",
    "from census import Census\n",
    "c = Census(key)\n",
    "pd.DataFrame(c.acs5.get(('NAME', 'B01001_001E'),\n",
    "{'for': 'county:*'}))"
   ]
  },
  {
   "cell_type": "markdown",
   "id": "c5bdd515-44ce-4f29-b859-7fa9560a8478",
   "metadata": {},
   "source": [
    "As discussed above, we will bypass the Census Python library and work directly with the Census API. Thankfully, the Census has detailed API documentation that makes this process relatively straightforward.\n",
    "\n",
    "[This list](https://api.census.gov/data/2022/acs/acs5/examples.html) (for the 2022 American Community Survey) provides a set of example API calls. For instance, here's one of the sample URLs shown on this page for retrieving county-level data:\n",
    "\n",
    "https://api.census.gov/data/2022/acs/acs5?get=NAME,B01001_001E&for=county:*&key=YOUR_KEY_GOES_HERE\n",
    "\n",
    "(B01001_001E refers to the total population estimates for a given county. We can find this out by going to the [Detailed Tables](https://api.census.gov/data/2022/acs/acs5/variables.html) page for the 2022 American Community Survey and navigating to the row with a 'Name' value of B01001_001E. This link, which may take a while to load is available on the [API Documentation Page](https://www.census.gov/data/developers/data-sets/acs-5year.html) for the 5-Year-Estimates version of the American Community Survey."
   ]
  },
  {
   "cell_type": "markdown",
   "id": "fb233e78-2ad3-440f-9d29-65be8934035f",
   "metadata": {},
   "source": [
    "If you replace the 'YOUR_KEY_GOES_HERE' component of the URL with your actual key, then enter this link into your web browser, you'll receive a very long list of counties, population values, and state and county codes. The top of the list looks like this:"
   ]
  },
  {
   "cell_type": "code",
   "execution_count": null,
   "id": "338d4336-00de-43bd-a2bd-b9c0adff6ebc",
   "metadata": {},
   "outputs": [],
   "source": [
    "[[\"NAME\",\"B01001_001E\",\"state\",\"county\"],\n",
    "[\"Autauga County, Alabama\",\"58761\",\"01\",\"001\"],\n",
    "[\"Baldwin County, Alabama\",\"233420\",\"01\",\"003\"],\n",
    "[\"Barbour County, Alabama\",\"24877\",\"01\",\"005\"],\n",
    "[\"Bibb County, Alabama\",\"22251\",\"01\",\"007\"],\n",
    "[\"Blount County, Alabama\",\"59077\",\"01\",\"009\"],\n",
    "[\"Bullock County, Alabama\",\"10328\",\"01\",\"011\"],"
   ]
  },
  {
   "cell_type": "markdown",
   "id": "68dabd63-8748-4ea8-9bbe-71befb44c19b",
   "metadata": {},
   "source": [
    "We can create a similar list within Python by using the requests library to retrieve data from this URL, then convert it to JSON format:"
   ]
  },
  {
   "cell_type": "code",
   "execution_count": 64,
   "id": "18db79fe-000e-4fa3-831b-07786feda4ac",
   "metadata": {
    "execution": {
     "iopub.execute_input": "2024-06-18T03:13:44.749694Z",
     "iopub.status.busy": "2024-06-18T03:13:44.748691Z",
     "iopub.status.idle": "2024-06-18T03:13:45.543305Z",
     "shell.execute_reply": "2024-06-18T03:13:45.543305Z",
     "shell.execute_reply.started": "2024-06-18T03:13:44.749694Z"
    }
   },
   "outputs": [
    {
     "name": "stdout",
     "output_type": "stream",
     "text": [
      "r.text:\n",
      " [[\"NAME\",\"B01001_001E\",\"state\",\"county\"],\n",
      "[\"Autauga County, Alabama\",\"58761\",\"01\",\"001\"],\n",
      "[\"Baldwin County, Alabama\",\"233420\",\"01\",\"003\"],\n",
      "[\"Barbour County, Alabama\",\"24877\",\"01\",\"005\"],\n",
      "[\"Bibb County, Alabama\",\"22251\",\"01\",\"007\"],\n",
      "[\"Blount County, Alabama\",\"59077\",\"01\",\"009\"],\n",
      "[\"Bullock County, Ala \n",
      "\n",
      "r.json:\n",
      " [['NAME', 'B01001_001E', 'state', 'county'], ['Autauga County, Alabama', '58761', '01', '001'], ['Baldwin County, Alabama', '233420', '01', '003'], ['Barbour County, Alabama', '24877', '01', '005'], ['Bibb County, Alabama', '22251', '01', '007']] \n",
      "\n"
     ]
    }
   ],
   "source": [
    "# The following code borrows from the requests library documentation at \n",
    "# https://docs.python-requests.org/en/latest/index.html\n",
    "import requests\n",
    "r = requests.get(f'https://api.census.gov/data/2022/\\\n",
    "acs/acs5?get=NAME,B01001_001E&for=county:*&key={key}')\n",
    "# Printing the first 300 characters of this output:\n",
    "print(\"r.text:\\n\",r.text[0:300],'\\n')\n",
    "# Printing the first 5 lines of r.json:\n",
    "print(\"r.json:\\n\",r.json()[0:5],'\\n')"
   ]
  },
  {
   "cell_type": "markdown",
   "id": "42f35e9a-a7ee-408e-8be2-717a4815b161",
   "metadata": {},
   "source": [
    "Converting our response to JSON allows it to be easily read into a Pandas DataFrame, as shown below:"
   ]
  },
  {
   "cell_type": "code",
   "execution_count": 70,
   "id": "fa1b0272-e757-450f-92f8-ebf082785f78",
   "metadata": {
    "execution": {
     "iopub.execute_input": "2024-06-18T03:15:31.520752Z",
     "iopub.status.busy": "2024-06-18T03:15:31.520752Z",
     "iopub.status.idle": "2024-06-18T03:15:31.528560Z",
     "shell.execute_reply": "2024-06-18T03:15:31.528560Z",
     "shell.execute_reply.started": "2024-06-18T03:15:31.520752Z"
    }
   },
   "outputs": [
    {
     "data": {
      "text/html": [
       "<div>\n",
       "<style scoped>\n",
       "    .dataframe tbody tr th:only-of-type {\n",
       "        vertical-align: middle;\n",
       "    }\n",
       "\n",
       "    .dataframe tbody tr th {\n",
       "        vertical-align: top;\n",
       "    }\n",
       "\n",
       "    .dataframe thead th {\n",
       "        text-align: right;\n",
       "    }\n",
       "</style>\n",
       "<table border=\"1\" class=\"dataframe\">\n",
       "  <thead>\n",
       "    <tr style=\"text-align: right;\">\n",
       "      <th></th>\n",
       "      <th>0</th>\n",
       "      <th>1</th>\n",
       "      <th>2</th>\n",
       "      <th>3</th>\n",
       "    </tr>\n",
       "  </thead>\n",
       "  <tbody>\n",
       "    <tr>\n",
       "      <th>0</th>\n",
       "      <td>NAME</td>\n",
       "      <td>B01001_001E</td>\n",
       "      <td>state</td>\n",
       "      <td>county</td>\n",
       "    </tr>\n",
       "    <tr>\n",
       "      <th>1</th>\n",
       "      <td>Autauga County, Alabama</td>\n",
       "      <td>58761</td>\n",
       "      <td>01</td>\n",
       "      <td>001</td>\n",
       "    </tr>\n",
       "    <tr>\n",
       "      <th>2</th>\n",
       "      <td>Baldwin County, Alabama</td>\n",
       "      <td>233420</td>\n",
       "      <td>01</td>\n",
       "      <td>003</td>\n",
       "    </tr>\n",
       "    <tr>\n",
       "      <th>3</th>\n",
       "      <td>Barbour County, Alabama</td>\n",
       "      <td>24877</td>\n",
       "      <td>01</td>\n",
       "      <td>005</td>\n",
       "    </tr>\n",
       "    <tr>\n",
       "      <th>4</th>\n",
       "      <td>Bibb County, Alabama</td>\n",
       "      <td>22251</td>\n",
       "      <td>01</td>\n",
       "      <td>007</td>\n",
       "    </tr>\n",
       "  </tbody>\n",
       "</table>\n",
       "</div>"
      ],
      "text/plain": [
       "                         0            1      2       3\n",
       "0                     NAME  B01001_001E  state  county\n",
       "1  Autauga County, Alabama        58761     01     001\n",
       "2  Baldwin County, Alabama       233420     01     003\n",
       "3  Barbour County, Alabama        24877     01     005\n",
       "4     Bibb County, Alabama        22251     01     007"
      ]
     },
     "execution_count": 70,
     "metadata": {},
     "output_type": "execute_result"
    }
   ],
   "source": [
    "# pd.DataFrame(r.text) # Produces the following error:\n",
    "# \"ValueError: DataFrame constructor not properly called!\"\n",
    "pd.DataFrame(r.json()).head()"
   ]
  },
  {
   "cell_type": "markdown",
   "id": "d42ce57c-bbf5-4400-9e52-848fda8cb441",
   "metadata": {},
   "source": [
    "I wanted to introduce the requests library here because you'll likely find it useful for extracting data from the internet. However, in this case, we can read Census data directly into a Pandas DataFrame via pd.read_json():"
   ]
  },
  {
   "cell_type": "code",
   "execution_count": 73,
   "id": "2c482d9e-981e-4935-a876-277bbae648d1",
   "metadata": {
    "execution": {
     "iopub.execute_input": "2024-06-18T03:24:46.136756Z",
     "iopub.status.busy": "2024-06-18T03:24:46.135755Z",
     "iopub.status.idle": "2024-06-18T03:24:46.939734Z",
     "shell.execute_reply": "2024-06-18T03:24:46.939734Z",
     "shell.execute_reply.started": "2024-06-18T03:24:46.136756Z"
    }
   },
   "outputs": [
    {
     "data": {
      "text/html": [
       "<div>\n",
       "<style scoped>\n",
       "    .dataframe tbody tr th:only-of-type {\n",
       "        vertical-align: middle;\n",
       "    }\n",
       "\n",
       "    .dataframe tbody tr th {\n",
       "        vertical-align: top;\n",
       "    }\n",
       "\n",
       "    .dataframe thead th {\n",
       "        text-align: right;\n",
       "    }\n",
       "</style>\n",
       "<table border=\"1\" class=\"dataframe\">\n",
       "  <thead>\n",
       "    <tr style=\"text-align: right;\">\n",
       "      <th></th>\n",
       "      <th>0</th>\n",
       "      <th>1</th>\n",
       "      <th>2</th>\n",
       "      <th>3</th>\n",
       "    </tr>\n",
       "  </thead>\n",
       "  <tbody>\n",
       "    <tr>\n",
       "      <th>0</th>\n",
       "      <td>NAME</td>\n",
       "      <td>B01001_001E</td>\n",
       "      <td>state</td>\n",
       "      <td>county</td>\n",
       "    </tr>\n",
       "    <tr>\n",
       "      <th>1</th>\n",
       "      <td>Autauga County, Alabama</td>\n",
       "      <td>58761</td>\n",
       "      <td>01</td>\n",
       "      <td>001</td>\n",
       "    </tr>\n",
       "    <tr>\n",
       "      <th>2</th>\n",
       "      <td>Baldwin County, Alabama</td>\n",
       "      <td>233420</td>\n",
       "      <td>01</td>\n",
       "      <td>003</td>\n",
       "    </tr>\n",
       "    <tr>\n",
       "      <th>3</th>\n",
       "      <td>Barbour County, Alabama</td>\n",
       "      <td>24877</td>\n",
       "      <td>01</td>\n",
       "      <td>005</td>\n",
       "    </tr>\n",
       "    <tr>\n",
       "      <th>4</th>\n",
       "      <td>Bibb County, Alabama</td>\n",
       "      <td>22251</td>\n",
       "      <td>01</td>\n",
       "      <td>007</td>\n",
       "    </tr>\n",
       "  </tbody>\n",
       "</table>\n",
       "</div>"
      ],
      "text/plain": [
       "                         0            1      2       3\n",
       "0                     NAME  B01001_001E  state  county\n",
       "1  Autauga County, Alabama        58761     01     001\n",
       "2  Baldwin County, Alabama       233420     01     003\n",
       "3  Barbour County, Alabama        24877     01     005\n",
       "4     Bibb County, Alabama        22251     01     007"
      ]
     },
     "execution_count": 73,
     "metadata": {},
     "output_type": "execute_result"
    }
   ],
   "source": [
    "df_results = pd.read_json(\n",
    "    f'https://api.census.gov/data/2022/\\\n",
    "acs/acs5?get=NAME,B01001_001E&for=county:*&key={key}')\n",
    "# read_json documentation:\n",
    "# https://pandas.pydata.org/pandas-docs/stable/reference/api/pandas.read_json.html\n",
    "df_results.head()"
   ]
  },
  {
   "cell_type": "code",
   "execution_count": 74,
   "id": "76eeb0f5-9c08-45e0-8f16-2011f04887b9",
   "metadata": {
    "execution": {
     "iopub.execute_input": "2024-06-18T03:24:52.794015Z",
     "iopub.status.busy": "2024-06-18T03:24:52.794015Z",
     "iopub.status.idle": "2024-06-18T03:24:52.802024Z",
     "shell.execute_reply": "2024-06-18T03:24:52.802024Z",
     "shell.execute_reply.started": "2024-06-18T03:24:52.794015Z"
    }
   },
   "outputs": [
    {
     "data": {
      "text/html": [
       "<div>\n",
       "<style scoped>\n",
       "    .dataframe tbody tr th:only-of-type {\n",
       "        vertical-align: middle;\n",
       "    }\n",
       "\n",
       "    .dataframe tbody tr th {\n",
       "        vertical-align: top;\n",
       "    }\n",
       "\n",
       "    .dataframe thead th {\n",
       "        text-align: right;\n",
       "    }\n",
       "</style>\n",
       "<table border=\"1\" class=\"dataframe\">\n",
       "  <thead>\n",
       "    <tr style=\"text-align: right;\">\n",
       "      <th></th>\n",
       "      <th>NAME</th>\n",
       "      <th>B01001_001E</th>\n",
       "      <th>state</th>\n",
       "      <th>county</th>\n",
       "    </tr>\n",
       "  </thead>\n",
       "  <tbody>\n",
       "    <tr>\n",
       "      <th>1</th>\n",
       "      <td>Autauga County, Alabama</td>\n",
       "      <td>58761</td>\n",
       "      <td>01</td>\n",
       "      <td>001</td>\n",
       "    </tr>\n",
       "    <tr>\n",
       "      <th>2</th>\n",
       "      <td>Baldwin County, Alabama</td>\n",
       "      <td>233420</td>\n",
       "      <td>01</td>\n",
       "      <td>003</td>\n",
       "    </tr>\n",
       "    <tr>\n",
       "      <th>3</th>\n",
       "      <td>Barbour County, Alabama</td>\n",
       "      <td>24877</td>\n",
       "      <td>01</td>\n",
       "      <td>005</td>\n",
       "    </tr>\n",
       "    <tr>\n",
       "      <th>4</th>\n",
       "      <td>Bibb County, Alabama</td>\n",
       "      <td>22251</td>\n",
       "      <td>01</td>\n",
       "      <td>007</td>\n",
       "    </tr>\n",
       "    <tr>\n",
       "      <th>5</th>\n",
       "      <td>Blount County, Alabama</td>\n",
       "      <td>59077</td>\n",
       "      <td>01</td>\n",
       "      <td>009</td>\n",
       "    </tr>\n",
       "    <tr>\n",
       "      <th>...</th>\n",
       "      <td>...</td>\n",
       "      <td>...</td>\n",
       "      <td>...</td>\n",
       "      <td>...</td>\n",
       "    </tr>\n",
       "    <tr>\n",
       "      <th>3218</th>\n",
       "      <td>Vega Baja Municipio, Puerto Rico</td>\n",
       "      <td>54182</td>\n",
       "      <td>72</td>\n",
       "      <td>145</td>\n",
       "    </tr>\n",
       "    <tr>\n",
       "      <th>3219</th>\n",
       "      <td>Vieques Municipio, Puerto Rico</td>\n",
       "      <td>8199</td>\n",
       "      <td>72</td>\n",
       "      <td>147</td>\n",
       "    </tr>\n",
       "    <tr>\n",
       "      <th>3220</th>\n",
       "      <td>Villalba Municipio, Puerto Rico</td>\n",
       "      <td>21984</td>\n",
       "      <td>72</td>\n",
       "      <td>149</td>\n",
       "    </tr>\n",
       "    <tr>\n",
       "      <th>3221</th>\n",
       "      <td>Yabucoa Municipio, Puerto Rico</td>\n",
       "      <td>30313</td>\n",
       "      <td>72</td>\n",
       "      <td>151</td>\n",
       "    </tr>\n",
       "    <tr>\n",
       "      <th>3222</th>\n",
       "      <td>Yauco Municipio, Puerto Rico</td>\n",
       "      <td>33988</td>\n",
       "      <td>72</td>\n",
       "      <td>153</td>\n",
       "    </tr>\n",
       "  </tbody>\n",
       "</table>\n",
       "<p>3222 rows × 4 columns</p>\n",
       "</div>"
      ],
      "text/plain": [
       "0                                 NAME B01001_001E state county\n",
       "1              Autauga County, Alabama       58761    01    001\n",
       "2              Baldwin County, Alabama      233420    01    003\n",
       "3              Barbour County, Alabama       24877    01    005\n",
       "4                 Bibb County, Alabama       22251    01    007\n",
       "5               Blount County, Alabama       59077    01    009\n",
       "...                                ...         ...   ...    ...\n",
       "3218  Vega Baja Municipio, Puerto Rico       54182    72    145\n",
       "3219    Vieques Municipio, Puerto Rico        8199    72    147\n",
       "3220   Villalba Municipio, Puerto Rico       21984    72    149\n",
       "3221    Yabucoa Municipio, Puerto Rico       30313    72    151\n",
       "3222      Yauco Municipio, Puerto Rico       33988    72    153\n",
       "\n",
       "[3222 rows x 4 columns]"
      ]
     },
     "execution_count": 74,
     "metadata": {},
     "output_type": "execute_result"
    }
   ],
   "source": [
    "# At this point, the DataFrame's columns are [0, 1, 2, 3], whereas the columns\n",
    "# we want to use are stored within the first row. The following code \n",
    "# sets these row values as our column values, then deletes this row:\n",
    "\n",
    "df_results.columns = df_results.iloc[0]\n",
    "df_results.drop(0, inplace = True)\n",
    "df_results\n",
    "\n",
    "df_results"
   ]
  },
  {
   "cell_type": "markdown",
   "id": "bb39d8d5-ba9d-4866-93c3-d22e2381cd08",
   "metadata": {},
   "source": [
    "# Part 2: Retrieving our Data"
   ]
  },
  {
   "cell_type": "code",
   "execution_count": null,
   "id": "2fd0cf99-5e68-4d25-81db-1923e337129e",
   "metadata": {},
   "outputs": [],
   "source": []
  }
 ],
 "metadata": {
  "kernelspec": {
   "display_name": "Python 3 (ipykernel)",
   "language": "python",
   "name": "python3"
  },
  "language_info": {
   "codemirror_mode": {
    "name": "ipython",
    "version": 3
   },
   "file_extension": ".py",
   "mimetype": "text/x-python",
   "name": "python",
   "nbconvert_exporter": "python",
   "pygments_lexer": "ipython3",
   "version": "3.12.3"
  }
 },
 "nbformat": 4,
 "nbformat_minor": 5
}
